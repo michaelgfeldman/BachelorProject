{
 "cells": [
  {
   "cell_type": "markdown",
   "metadata": {},
   "source": [
    "# First steps"
   ]
  },
  {
   "cell_type": "code",
   "execution_count": 1,
   "metadata": {
    "ExecuteTime": {
     "end_time": "2020-03-05T12:58:35.393570Z",
     "start_time": "2020-03-05T12:58:32.023159Z"
    },
    "code_folding": []
   },
   "outputs": [],
   "source": [
    "#importing\n",
    "import nltk\n",
    "import spacy\n",
    "import warnings\n",
    "import pickle\n",
    "import numpy as np\n",
    "import pandas as pd\n",
    "import seaborn as sns\n",
    "import en_core_web_sm\n",
    "from string import punctuation\n",
    "import matplotlib.pyplot as plt\n",
    "from skll.metrics import kappa\n",
    "from tqdm import tqdm_notebook\n",
    "from sklearn.feature_selection import chi2\n",
    "from sklearn.decomposition import TruncatedSVD\n",
    "from spacy.lang.en.stop_words import STOP_WORDS\n",
    "from sklearn.feature_extraction.text import TfidfVectorizer\n",
    "from sklearn.metrics import cohen_kappa_score, make_scorer\n",
    "from sklearn.preprocessing import StandardScaler\n",
    "from sklearn.linear_model import LogisticRegression, Ridge\n",
    "from sklearn.model_selection import cross_val_score, cross_val_predict, StratifiedKFold\n",
    "from sklearn.ensemble import RandomForestClassifier,ExtraTreesClassifier, StackingClassifier\n",
    "from sklearn.feature_selection import VarianceThreshold, SelectKBest, f_classif, f_regression\n",
    "warnings.filterwarnings('ignore')\n",
    "words_english = set(nltk.corpus.words.words())\n",
    "correct_words_set = set(nltk.corpus.brown.words())\n",
    "lematizator = en_core_web_sm.load()\n",
    "plt.style.use('seaborn-colorblind')\n",
    "%matplotlib inline"
   ]
  },
  {
   "cell_type": "code",
   "execution_count": 2,
   "metadata": {
    "ExecuteTime": {
     "end_time": "2020-03-05T12:41:15.069801Z",
     "start_time": "2020-03-05T12:41:15.066118Z"
    }
   },
   "outputs": [],
   "source": [
    "# downloading the data\n",
    "essays = pd.read_csv('train_set.csv')\n",
    "essays_test= pd.read_csv('test_set.csv')"
   ]
  },
  {
   "cell_type": "code",
   "execution_count": 3,
   "metadata": {
    "ExecuteTime": {
     "end_time": "2020-03-05T12:41:15.166496Z",
     "start_time": "2020-03-05T12:41:15.124158Z"
    }
   },
   "outputs": [
    {
     "data": {
      "text/html": [
       "<div>\n",
       "<style scoped>\n",
       "    .dataframe tbody tr th:only-of-type {\n",
       "        vertical-align: middle;\n",
       "    }\n",
       "\n",
       "    .dataframe tbody tr th {\n",
       "        vertical-align: top;\n",
       "    }\n",
       "\n",
       "    .dataframe thead th {\n",
       "        text-align: right;\n",
       "    }\n",
       "</style>\n",
       "<table border=\"1\" class=\"dataframe\">\n",
       "  <thead>\n",
       "    <tr style=\"text-align: right;\">\n",
       "      <th></th>\n",
       "      <th>essay_set</th>\n",
       "      <th>essay</th>\n",
       "      <th>domain1_score</th>\n",
       "    </tr>\n",
       "  </thead>\n",
       "  <tbody>\n",
       "    <tr>\n",
       "      <th>0</th>\n",
       "      <td>1</td>\n",
       "      <td>Dear local newspaper, I think effects computer...</td>\n",
       "      <td>8.0</td>\n",
       "    </tr>\n",
       "    <tr>\n",
       "      <th>1</th>\n",
       "      <td>1</td>\n",
       "      <td>Dear @CAPS1 @CAPS2, I believe that using compu...</td>\n",
       "      <td>9.0</td>\n",
       "    </tr>\n",
       "    <tr>\n",
       "      <th>2</th>\n",
       "      <td>1</td>\n",
       "      <td>Dear, @CAPS1 @CAPS2 @CAPS3 More and more peopl...</td>\n",
       "      <td>7.0</td>\n",
       "    </tr>\n",
       "    <tr>\n",
       "      <th>3</th>\n",
       "      <td>1</td>\n",
       "      <td>Dear Local Newspaper, @CAPS1 I have found that...</td>\n",
       "      <td>10.0</td>\n",
       "    </tr>\n",
       "    <tr>\n",
       "      <th>4</th>\n",
       "      <td>1</td>\n",
       "      <td>Dear @LOCATION1, I know having computers has a...</td>\n",
       "      <td>8.0</td>\n",
       "    </tr>\n",
       "  </tbody>\n",
       "</table>\n",
       "</div>"
      ],
      "text/plain": [
       "   essay_set                                              essay  domain1_score\n",
       "0          1  Dear local newspaper, I think effects computer...            8.0\n",
       "1          1  Dear @CAPS1 @CAPS2, I believe that using compu...            9.0\n",
       "2          1  Dear, @CAPS1 @CAPS2 @CAPS3 More and more peopl...            7.0\n",
       "3          1  Dear Local Newspaper, @CAPS1 I have found that...           10.0\n",
       "4          1  Dear @LOCATION1, I know having computers has a...            8.0"
      ]
     },
     "execution_count": 3,
     "metadata": {},
     "output_type": "execute_result"
    }
   ],
   "source": [
    "essays.head()"
   ]
  },
  {
   "cell_type": "code",
   "execution_count": 4,
   "metadata": {
    "ExecuteTime": {
     "end_time": "2020-03-05T12:41:15.199879Z",
     "start_time": "2020-03-05T12:41:15.169995Z"
    },
    "jupyter": {
     "source_hidden": true
    }
   },
   "outputs": [
    {
     "name": "stdout",
     "output_type": "stream",
     "text": [
      "<class 'pandas.core.frame.DataFrame'>\n",
      "RangeIndex: 11680 entries, 0 to 11679\n",
      "Data columns (total 3 columns):\n",
      " #   Column         Non-Null Count  Dtype  \n",
      "---  ------         --------------  -----  \n",
      " 0   essay_set      11680 non-null  int64  \n",
      " 1   essay          11680 non-null  object \n",
      " 2   domain1_score  11680 non-null  float64\n",
      "dtypes: float64(1), int64(1), object(1)\n",
      "memory usage: 273.9+ KB\n",
      "None\n"
     ]
    }
   ],
   "source": [
    "print(essays.info())"
   ]
  },
  {
   "cell_type": "code",
   "execution_count": 5,
   "metadata": {
    "ExecuteTime": {
     "end_time": "2020-03-05T12:41:15.546573Z",
     "start_time": "2020-03-05T12:41:15.218054Z"
    }
   },
   "outputs": [
    {
     "data": {
      "text/plain": [
       "<matplotlib.axes._subplots.AxesSubplot at 0x7fdd7c3bbb50>"
      ]
     },
     "execution_count": 5,
     "metadata": {},
     "output_type": "execute_result"
    },
    {
     "data": {
      "image/png": "[encoded data removed]",
      "text/plain": [
       "<Figure size 432x288 with 1 Axes>"
      ]
     },
     "metadata": {
      "needs_background": "light"
     },
     "output_type": "display_data"
    }
   ],
   "source": [
    "#Topics distribution\n",
    "sns.countplot(essays['essay_set'])"
   ]
  },
  {
   "cell_type": "code",
   "execution_count": 6,
   "metadata": {
    "ExecuteTime": {
     "end_time": "2020-03-03T12:24:55.286679Z",
     "start_time": "2020-03-03T12:24:52.521410Z"
    }
   },
   "outputs": [
    {
     "data": {
      "image/png": "[encoded data removed]",
      "text/plain": [
       "<Figure size 648x648 with 8 Axes>"
      ]
     },
     "metadata": {
      "needs_background": "light"
     },
     "output_type": "display_data"
    }
   ],
   "source": [
    "#Scors distribution in each topic\n",
    "topic_number = 0\n",
    "fig, ax = plt.subplots(4,2, figsize=(9,9), sharey=False)\n",
    "for i in range(4):\n",
    "    for j in range(2):\n",
    "        topic_number += 1\n",
    "        essays[essays['essay_set'] == topic_number]\\\n",
    "            .groupby('domain1_score')['essay_set'].agg('count')\\\n",
    "            .plot.bar(ax=ax[i, j], rot=0)\n",
    "        ax[i,j].set_title('Topic %i' % topic_number)\n",
    "ax[3,0].locator_params(nbins=10)\n",
    "ax[3,1].locator_params(nbins=10)\n",
    "plt.suptitle('Histograms of essay scores')\n",
    "plt.tight_layout(rect=[0, 0.03, 1, 0.95])\n",
    "plt.show()"
   ]
  },
  {
   "cell_type": "markdown",
   "metadata": {},
   "source": [
    "# Feature Engineering"
   ]
  },
  {
   "cell_type": "code",
   "execution_count": 7,
   "metadata": {
    "ExecuteTime": {
     "end_time": "2020-03-05T12:41:39.816586Z",
     "start_time": "2020-03-05T12:41:39.803726Z"
    }
   },
   "outputs": [],
   "source": [
    "def preprocessing(essays):\n",
    "    #List of all parts of speech\n",
    "    list_of_all_tags=['LS', 'TO', 'VBN', \"''\", 'WP', 'UH', 'VBG', \n",
    "                      'JJ', 'VBZ', '--', 'VBP', 'NN', 'DT', 'PRP', \n",
    "                      ':', 'WP$', 'NNPS', 'PRP$', 'WDT', '(', ')', \n",
    "                      '.', ',',  '``', '$', 'RB', 'RBR', 'RBS', 'VBD',\n",
    "                      'IN', 'FW', 'RP', 'JJR', 'JJS', 'PDT','MD', 'VB', \n",
    "                      'WRB', 'NNP', 'EX', 'NNS', 'SYM', 'CC', 'CD', 'POS']\n",
    "\n",
    "    # Reseting indexes and lowering all words\n",
    "    essays['essay'] = essays['essay'].apply(lambda x : x.lower())\n",
    "\n",
    "    #Splitting essays by sentences and counting them\n",
    "    nltk_sentences_tokinized = []\n",
    "    for i in tqdm_notebook(essays['essay']):\n",
    "        nltk_sentences_tokinized += [nltk.sent_tokenize(i)]\n",
    "    essays['essay_sentences'] = nltk_sentences_tokinized\n",
    "    essays['sentences_count'] = essays[\"essay_sentences\"].apply(lambda x:len(x))\n",
    "\n",
    "    #Removing punctuation and counting words\n",
    "    nltk_words_tokinized = []\n",
    "    for i in tqdm_notebook(essays['essay']):\n",
    "        nltk_words_tokinized += [[word for word in nltk.word_tokenize(i) \n",
    "                                  if word not in punctuation]]\n",
    "    essays['essay_words'] = nltk_words_tokinized\n",
    "    essays['words_count'] = essays['essay_words'].apply(lambda x:len(x))\n",
    "    essays['unique_words_count'] = essays['essay_words'].apply(lambda x:len(set(x)))\n",
    "\n",
    "    #Counting punctuation, spelling errors, charachters\n",
    "    #Words per sentence ratio, average sentence length\n",
    "    def words_filter(essays):\n",
    "        punctuation_count = []\n",
    "        misspelled_words_count = []\n",
    "        for essay in tqdm_notebook(essays):\n",
    "            pc_temp=0\n",
    "            mw_temp=0\n",
    "            for word in nltk.word_tokenize(essay):\n",
    "                if word.lower() not in punctuation:\n",
    "                    if word.lower() not in correct_words_set:\n",
    "                        mw_temp+=1\n",
    "                else:\n",
    "                    pc_temp+=1\n",
    "            punctuation_count.append(pc_temp)\n",
    "            misspelled_words_count.append(mw_temp)\n",
    "        return punctuation_count,misspelled_words_count\n",
    "    word_features = words_filter(essays['essay'])\n",
    "    essays['punctuatioon_count'] = word_features[0]\n",
    "    essays['spelling_errors'] = word_features[1]\n",
    "    essays['character_count'] = essays['essay'].apply(lambda essay:len(essay))\n",
    "    essays['words_per_sent_ratio'] = round(essays['words_count']/essays['sentences_count'])\n",
    "    essays['avg_sen_len'] = round(essays['character_count']/essays['sentences_count'])\n",
    "\n",
    "    # Counting only english words\n",
    "    english_words=[]\n",
    "    for listofwords in tqdm_notebook(essays['essay_words']):\n",
    "        temp_english_word=0\n",
    "        for word in listofwords:\n",
    "            if word in words_english:\n",
    "                temp_english_word+=1\n",
    "        english_words.append(temp_english_word)\n",
    "    essays['english_words']=english_words\n",
    "\n",
    "    #Removing only non-stopwords and stopwords\n",
    "    nltk_words_tokinized_no_stop_words = []\n",
    "    stopwords_count = []\n",
    "    for tolinized_list in tqdm_notebook(essays['essay_words']):\n",
    "        temp_stop_words_count = 0\n",
    "        temp_nsw = []\n",
    "        for word in tolinized_list:\n",
    "            if word not in STOP_WORDS:\n",
    "                temp_nsw.append(word)\n",
    "            else:\n",
    "                temp_stop_words_count+=1\n",
    "        nltk_words_tokinized_no_stop_words.append(temp_nsw)\n",
    "        stopwords_count.append(temp_stop_words_count)\n",
    "    essays['essay_words'] = nltk_words_tokinized_no_stop_words\n",
    "    essays['stopwords_count'] = stopwords_count\n",
    "\n",
    "    #Joining essay without stopwords\n",
    "    def words_joiner(essays):\n",
    "        for line_number in tqdm_notebook(range(essays.index[0],essays.index[-1]+1)):\n",
    "            essays['essay_words'][line_number] = ' '.join(essays['essay_words'][line_number])\n",
    "\n",
    "    #Tagging evry word with the corespondent part of speech\n",
    "    for i in list_of_all_tags:\n",
    "        essays[i] = 0\n",
    "    for line_number in tqdm_notebook(range(essays.index[0],essays.index[-1]+1)):\n",
    "        temp_pos_list = np.unique(np.array(nltk.pos_tag(essays['essay_words'][line_number]))[:,1], return_counts=True)\n",
    "        pos_list = list(zip(temp_pos_list[0],temp_pos_list[1]))\n",
    "        for i in pos_list:\n",
    "            essays[i[0]][line_number]=i[1]\n",
    "    essays.drop(columns=[\"''\", '--', ':', '(', ')', '.', ',', '``',\n",
    "                         '$','essay','essay_sentences'],inplace=True,axis=1)\n",
    "    words_joiner(essays)\n",
    "\n",
    "    #Reducing every word to its grammatical root and counting absolute and unique number of those roots\n",
    "    lemmatized_essay_words = []\n",
    "    for essay in  tqdm_notebook(essays['essay_words']):\n",
    "        lemmatized = [t.lemma_ for t in lematizator(essay)]\n",
    "        lemmatized_essay_words.append(lemmatized)\n",
    "    essays['essay_words'] = lemmatized_essay_words\n",
    "    essays['token_count'] = essays['essay_words'].apply(lambda x: len(x))\n",
    "    essays['unique_token_count'] = essays['essay_words'].apply(lambda x: len(set(x)))\n",
    "    \n",
    "    return words_joiner(essays)"
   ]
  },
  {
   "cell_type": "code",
   "execution_count": 8,
   "metadata": {
    "collapsed": true,
    "jupyter": {
     "outputs_hidden": true
    }
   },
   "outputs": [
    {
     "data": {
      "application/vnd.jupyter.widget-view+json": {
       "model_id": "bc077803fbbb442cbd124d1498727d14",
       "version_major": 2,
       "version_minor": 0
      },
      "text/plain": [
       "HBox(children=(FloatProgress(value=0.0, max=11680.0), HTML(value='')))"
      ]
     },
     "metadata": {},
     "output_type": "display_data"
    },
    {
     "name": "stdout",
     "output_type": "stream",
     "text": [
      "\n"
     ]
    },
    {
     "data": {
      "application/vnd.jupyter.widget-view+json": {
       "model_id": "108936920c2c43e09c1dfc2740003dd9",
       "version_major": 2,
       "version_minor": 0
      },
      "text/plain": [
       "HBox(children=(FloatProgress(value=0.0, max=11680.0), HTML(value='')))"
      ]
     },
     "metadata": {},
     "output_type": "display_data"
    },
    {
     "name": "stdout",
     "output_type": "stream",
     "text": [
      "\n"
     ]
    },
    {
     "data": {
      "application/vnd.jupyter.widget-view+json": {
       "model_id": "0b26d67734e048788ab4286bf8894652",
       "version_major": 2,
       "version_minor": 0
      },
      "text/plain": [
       "HBox(children=(FloatProgress(value=0.0, max=11680.0), HTML(value='')))"
      ]
     },
     "metadata": {},
     "output_type": "display_data"
    },
    {
     "name": "stdout",
     "output_type": "stream",
     "text": [
      "\n"
     ]
    },
    {
     "data": {
      "application/vnd.jupyter.widget-view+json": {
       "model_id": "899e407612ca402da50ba83db7c11532",
       "version_major": 2,
       "version_minor": 0
      },
      "text/plain": [
       "HBox(children=(FloatProgress(value=0.0, max=11680.0), HTML(value='')))"
      ]
     },
     "metadata": {},
     "output_type": "display_data"
    },
    {
     "name": "stdout",
     "output_type": "stream",
     "text": [
      "\n"
     ]
    },
    {
     "data": {
      "application/vnd.jupyter.widget-view+json": {
       "model_id": "ff8822508c3d4d40a400e7d304221fbe",
       "version_major": 2,
       "version_minor": 0
      },
      "text/plain": [
       "HBox(children=(FloatProgress(value=0.0, max=11680.0), HTML(value='')))"
      ]
     },
     "metadata": {},
     "output_type": "display_data"
    },
    {
     "name": "stdout",
     "output_type": "stream",
     "text": [
      "\n"
     ]
    },
    {
     "data": {
      "application/vnd.jupyter.widget-view+json": {
       "model_id": "0e092fa4e3a8447681429cfe06c8dc68",
       "version_major": 2,
       "version_minor": 0
      },
      "text/plain": [
       "HBox(children=(FloatProgress(value=0.0, max=11680.0), HTML(value='')))"
      ]
     },
     "metadata": {},
     "output_type": "display_data"
    },
    {
     "name": "stdout",
     "output_type": "stream",
     "text": [
      "\n"
     ]
    },
    {
     "data": {
      "application/vnd.jupyter.widget-view+json": {
       "model_id": "c86e322c8f3e48a4b799595a44c34b65",
       "version_major": 2,
       "version_minor": 0
      },
      "text/plain": [
       "HBox(children=(FloatProgress(value=0.0, max=11680.0), HTML(value='')))"
      ]
     },
     "metadata": {},
     "output_type": "display_data"
    },
    {
     "name": "stdout",
     "output_type": "stream",
     "text": [
      "\n"
     ]
    },
    {
     "data": {
      "application/vnd.jupyter.widget-view+json": {
       "model_id": "0a2e09dc7c044319807ad8242ada417c",
       "version_major": 2,
       "version_minor": 0
      },
      "text/plain": [
       "HBox(children=(FloatProgress(value=0.0, max=11680.0), HTML(value='')))"
      ]
     },
     "metadata": {},
     "output_type": "display_data"
    },
    {
     "name": "stdout",
     "output_type": "stream",
     "text": [
      "\n"
     ]
    },
    {
     "data": {
      "application/vnd.jupyter.widget-view+json": {
       "model_id": "f6b5a4c0d53f42e58be028d98ebd840c",
       "version_major": 2,
       "version_minor": 0
      },
      "text/plain": [
       "HBox(children=(FloatProgress(value=0.0, max=11680.0), HTML(value='')))"
      ]
     },
     "metadata": {},
     "output_type": "display_data"
    },
    {
     "name": "stdout",
     "output_type": "stream",
     "text": [
      "\n"
     ]
    },
    {
     "data": {
      "application/vnd.jupyter.widget-view+json": {
       "model_id": "e4aa26a0397840fea4bb505df6287221",
       "version_major": 2,
       "version_minor": 0
      },
      "text/plain": [
       "HBox(children=(FloatProgress(value=0.0, max=1297.0), HTML(value='')))"
      ]
     },
     "metadata": {},
     "output_type": "display_data"
    },
    {
     "name": "stdout",
     "output_type": "stream",
     "text": [
      "\n"
     ]
    },
    {
     "data": {
      "application/vnd.jupyter.widget-view+json": {
       "model_id": "d5ed0f8d80944601a237d3a1a7af3816",
       "version_major": 2,
       "version_minor": 0
      },
      "text/plain": [
       "HBox(children=(FloatProgress(value=0.0, max=1297.0), HTML(value='')))"
      ]
     },
     "metadata": {},
     "output_type": "display_data"
    },
    {
     "name": "stdout",
     "output_type": "stream",
     "text": [
      "\n"
     ]
    },
    {
     "data": {
      "application/vnd.jupyter.widget-view+json": {
       "model_id": "b710c1f97c3b4de687c714f4b864c559",
       "version_major": 2,
       "version_minor": 0
      },
      "text/plain": [
       "HBox(children=(FloatProgress(value=0.0, max=1297.0), HTML(value='')))"
      ]
     },
     "metadata": {},
     "output_type": "display_data"
    },
    {
     "name": "stdout",
     "output_type": "stream",
     "text": [
      "\n"
     ]
    },
    {
     "data": {
      "application/vnd.jupyter.widget-view+json": {
       "model_id": "05290183970a48159703434d08931632",
       "version_major": 2,
       "version_minor": 0
      },
      "text/plain": [
       "HBox(children=(FloatProgress(value=0.0, max=1297.0), HTML(value='')))"
      ]
     },
     "metadata": {},
     "output_type": "display_data"
    },
    {
     "name": "stdout",
     "output_type": "stream",
     "text": [
      "\n"
     ]
    },
    {
     "data": {
      "application/vnd.jupyter.widget-view+json": {
       "model_id": "b2345fe4d83d4e07b47ec9d2a6057a2f",
       "version_major": 2,
       "version_minor": 0
      },
      "text/plain": [
       "HBox(children=(FloatProgress(value=0.0, max=1297.0), HTML(value='')))"
      ]
     },
     "metadata": {},
     "output_type": "display_data"
    },
    {
     "name": "stdout",
     "output_type": "stream",
     "text": [
      "\n"
     ]
    },
    {
     "data": {
      "application/vnd.jupyter.widget-view+json": {
       "model_id": "7d7acb7780c9404aa45e90b5a5285a74",
       "version_major": 2,
       "version_minor": 0
      },
      "text/plain": [
       "HBox(children=(FloatProgress(value=0.0, max=1297.0), HTML(value='')))"
      ]
     },
     "metadata": {},
     "output_type": "display_data"
    },
    {
     "name": "stdout",
     "output_type": "stream",
     "text": [
      "\n"
     ]
    },
    {
     "data": {
      "application/vnd.jupyter.widget-view+json": {
       "model_id": "cd16721f26a94719a53b1ad05f1fbc39",
       "version_major": 2,
       "version_minor": 0
      },
      "text/plain": [
       "HBox(children=(FloatProgress(value=0.0, max=1297.0), HTML(value='')))"
      ]
     },
     "metadata": {},
     "output_type": "display_data"
    },
    {
     "name": "stdout",
     "output_type": "stream",
     "text": [
      "\n"
     ]
    },
    {
     "data": {
      "application/vnd.jupyter.widget-view+json": {
       "model_id": "6239b2a3464c4542afb5f8882aad9f5f",
       "version_major": 2,
       "version_minor": 0
      },
      "text/plain": [
       "HBox(children=(FloatProgress(value=0.0, max=1297.0), HTML(value='')))"
      ]
     },
     "metadata": {},
     "output_type": "display_data"
    },
    {
     "name": "stdout",
     "output_type": "stream",
     "text": [
      "\n"
     ]
    },
    {
     "data": {
      "application/vnd.jupyter.widget-view+json": {
       "model_id": "b77badbbf06e46188ed030dbdd3f019b",
       "version_major": 2,
       "version_minor": 0
      },
      "text/plain": [
       "HBox(children=(FloatProgress(value=0.0, max=1297.0), HTML(value='')))"
      ]
     },
     "metadata": {},
     "output_type": "display_data"
    },
    {
     "name": "stdout",
     "output_type": "stream",
     "text": [
      "\n"
     ]
    }
   ],
   "source": [
    "#adding all of the features\n",
    "preprocessing(essays)\n",
    "preprocessing(essays_test)"
   ]
  },
  {
   "cell_type": "markdown",
   "metadata": {},
   "source": [
    "# Modeling and cross-validation"
   ]
  },
  {
   "cell_type": "code",
   "execution_count": 9,
   "metadata": {},
   "outputs": [],
   "source": [
    "def mean_quadratic_weighted_kappa(kappas, weights):\n",
    "    kappas = np.array(kappas, dtype=float)\n",
    "    if weights is None:\n",
    "        weights = np.ones(np.shape(kappas))\n",
    "    else:\n",
    "        weights = weights / np.mean(weights)\n",
    "\n",
    "    # ensure that kappas are in the range [-.999, .999]\n",
    "    kappas = np.array([min(x, .999) for x in kappas])\n",
    "    kappas = np.array([max(x, -.999) for x in kappas])\n",
    "    \n",
    "    z = 0.5 * np.log( (1+kappas)/(1-kappas) ) * weights\n",
    "    z = np.mean(z)\n",
    "    kappa = (np.exp(2*z)-1) / (np.exp(2*z)+1)\n",
    "    return kappa"
   ]
  },
  {
   "cell_type": "code",
   "execution_count": 10,
   "metadata": {},
   "outputs": [],
   "source": [
    "#Feature importances visualization\n",
    "def feature_importances_visualization(essays,y_train,sel_k_best):\n",
    "    \n",
    "    X = essays[essays.drop(['domain1_score','essay_words',\n",
    "                            'essay_set'],axis=1).columns[(sel_k_best.get_support())]]\n",
    "    y = y_train.astype(np.float64)\n",
    "    forest = ExtraTreesClassifier(n_estimators=250, random_state=26)\n",
    "    forest.fit(X, y)\n",
    "    std = np.std([tree.feature_importances_ for tree in forest.estimators_], axis=0)\n",
    "    features = pd.DataFrame({'feature_name': X.columns, \n",
    "                             'importance': forest.feature_importances_, 'std': std})\n",
    "    features.sort_values('importance').plot.barh(\n",
    "        x='feature_name', y='importance', xerr='std', legend=False)\n",
    "    plt.title('Gini importances of forest features')\n",
    "    plt.xlabel('Gini-importance')\n",
    "    plt.tight_layout()\n",
    "    plt.show()"
   ]
  },
  {
   "cell_type": "code",
   "execution_count": 11,
   "metadata": {},
   "outputs": [],
   "source": [
    "def topics_preprocessing(essays_given,topic,\n",
    "                         save_to_pkl=False,name_prefix='',feature_importance=True):\n",
    "    \n",
    "    essays = essays_given[(essays_given['essay_set']==topic)]\n",
    "    y_train = essays['domain1_score']\n",
    "    \n",
    "    #Vectorization of text data\n",
    "    tv = TfidfVectorizer(ngram_range=(1, 5), max_features=2000)\n",
    "    essay_words_vectorized = tv.fit_transform(essays['essay_words'])\n",
    "    \n",
    "    #Numerical features selection\n",
    "    sel_k_best = SelectKBest(chi2, k=15)\n",
    "    selected_sel_k_best = sel_k_best.fit_transform(\n",
    "        essays.drop(['domain1_score','essay_words','essay_set'],axis=1),y_train)\n",
    "    if feature_importance:\n",
    "        feature_importances_visualization(essays,y_train,sel_k_best)\n",
    "        \n",
    "    #Performng num. features scaling, stacking with vectorized text data and dim. red.\n",
    "    pca = TruncatedSVD(n_components=15,random_state = RANDOM_STATE)\n",
    "    scaleer = StandardScaler(copy=True, with_mean=True, with_std=True)\n",
    "    numerical_scaled = scaleer.fit_transform(selected_sel_k_best)\n",
    "    essay_words_vectorized_reduced = pca.fit_transform(essay_words_vectorized)\n",
    "    X_reduced = np.concatenate((essay_words_vectorized_reduced,numerical_scaled),axis=1)\n",
    "    if save_to_pkl:\n",
    "        pickle.dump(tv,open('./pickles/'+name_prefix+'_vectorizer.pkl','wb'))\n",
    "        pickle.dump(sel_k_best,open('./pickles/'+name_prefix+'_selector.pkl','wb'))\n",
    "        pickle.dump(scaleer,open('./pickles/'+name_prefix+'_scaleer.pkl','wb'))\n",
    "        pickle.dump(pca,open('./pickles/'+name_prefix+'_pca.pkl','wb'))\n",
    "    return X_reduced, y_train"
   ]
  },
  {
   "cell_type": "code",
   "execution_count": 12,
   "metadata": {
    "ExecuteTime": {
     "end_time": "2020-03-05T12:41:52.133753Z",
     "start_time": "2020-03-05T12:41:52.128125Z"
    }
   },
   "outputs": [],
   "source": [
    "#All choosen ML models\n",
    "RANDOM_STATE = 47\n",
    "\n",
    "log_clf = LogisticRegression(\n",
    "    penalty='l2',C=5,n_jobs=-1,\n",
    "    random_state = RANDOM_STATE,max_iter=5000000)\n",
    "\n",
    "random_forest_clf = RandomForestClassifier(\n",
    "    n_estimators=70,random_state = RANDOM_STATE, n_jobs=-1)\n",
    "\n",
    "et_clf = ExtraTreesClassifier(\n",
    "    n_estimators=70,random_state=RANDOM_STATE, n_jobs=-1)\n",
    "\n",
    "# Stacking\n",
    "estimators = [('logistic', log_clf),\n",
    "              ('ET', et_clf),\n",
    "              ('rf', random_forest_clf)]\n",
    "\n",
    "model_stacked_clf=StackingClassifier(\n",
    "    estimators=estimators, final_estimator=log_clf, \n",
    "    stack_method = 'predict_proba', n_jobs=-1, \n",
    "    passthrough=False, cv=StratifiedKFold(n_splits=2,random_state = RANDOM_STATE))"
   ]
  },
  {
   "cell_type": "code",
   "execution_count": 13,
   "metadata": {},
   "outputs": [
    {
     "data": {
      "image/png": "[encoded data removed]",
      "text/plain": [
       "<Figure size 432x288 with 1 Axes>"
      ]
     },
     "metadata": {
      "needs_background": "light"
     },
     "output_type": "display_data"
    },
    {
     "name": "stdout",
     "output_type": "stream",
     "text": [
      "Topic 1 kappa_score:0.82\n"
     ]
    },
    {
     "data": {
      "image/png": "[encoded data removed]",
      "text/plain": [
       "<Figure size 432x288 with 1 Axes>"
      ]
     },
     "metadata": {
      "needs_background": "light"
     },
     "output_type": "display_data"
    },
    {
     "name": "stdout",
     "output_type": "stream",
     "text": [
      "Topic 2 kappa_score:0.69\n"
     ]
    },
    {
     "data": {
      "image/png": "[encoded data removed]",
      "text/plain": [
       "<Figure size 432x288 with 1 Axes>"
      ]
     },
     "metadata": {
      "needs_background": "light"
     },
     "output_type": "display_data"
    },
    {
     "name": "stdout",
     "output_type": "stream",
     "text": [
      "Topic 3 kappa_score:0.71\n"
     ]
    },
    {
     "data": {
      "image/png": "[encoded data removed]",
      "text/plain": [
       "<Figure size 432x288 with 1 Axes>"
      ]
     },
     "metadata": {
      "needs_background": "light"
     },
     "output_type": "display_data"
    },
    {
     "name": "stdout",
     "output_type": "stream",
     "text": [
      "Topic 4 kappa_score:0.76\n"
     ]
    },
    {
     "data": {
      "image/png": "[encoded data removed]",
      "text/plain": [
       "<Figure size 432x288 with 1 Axes>"
      ]
     },
     "metadata": {
      "needs_background": "light"
     },
     "output_type": "display_data"
    },
    {
     "name": "stdout",
     "output_type": "stream",
     "text": [
      "Topic 5 kappa_score:0.8\n"
     ]
    },
    {
     "data": {
      "image/png": "[encoded data removed]",
      "text/plain": [
       "<Figure size 432x288 with 1 Axes>"
      ]
     },
     "metadata": {
      "needs_background": "light"
     },
     "output_type": "display_data"
    },
    {
     "name": "stdout",
     "output_type": "stream",
     "text": [
      "Topic 6 kappa_score:0.74\n"
     ]
    },
    {
     "data": {
      "image/png": "[encoded data removed]",
      "text/plain": [
       "<Figure size 432x288 with 1 Axes>"
      ]
     },
     "metadata": {
      "needs_background": "light"
     },
     "output_type": "display_data"
    },
    {
     "name": "stdout",
     "output_type": "stream",
     "text": [
      "Topic 7 kappa_score:0.75\n"
     ]
    },
    {
     "data": {
      "image/png": "[encoded data removed]",
      "text/plain": [
       "<Figure size 432x288 with 1 Axes>"
      ]
     },
     "metadata": {
      "needs_background": "light"
     },
     "output_type": "display_data"
    },
    {
     "name": "stdout",
     "output_type": "stream",
     "text": [
      "Topic 8 kappa_score:0.71\n",
      "Every topic kappa score\n",
      "0.8241264607155268\n",
      "0.6878302038144783\n",
      "0.705068755782851\n",
      "0.7643433579842478\n",
      "0.8037582720184678\n",
      "0.7423250455292876\n",
      "0.7536106267222619\n",
      "0.7069883927302116\n",
      "Weighted by topic Kappa score: 0.76\n",
      "Average Kappa score: 0.75\n"
     ]
    }
   ],
   "source": [
    "#Performing 5 fold cross-validation\n",
    "kappa_scorer = make_scorer(cohen_kappa_score,weights=\"quadratic\")\n",
    "kappa_scorer_reg = make_scorer(kappa,weights=\"quadratic\")\n",
    "splits = StratifiedKFold(n_splits=5,random_state = RANDOM_STATE)\n",
    "kappas_means = []\n",
    "weights = []\n",
    "for i in range(1,9):\n",
    "    if i == 8:\n",
    "        model = Ridge()\n",
    "        scorer = kappa_scorer_reg\n",
    "    else:\n",
    "        model = model_stacked_clf\n",
    "        scorer = kappa_scorer\n",
    "    X_reduced, y_train = topics_preprocessing(essays,i)\n",
    "    cv_scores_kappa_scorer = cross_val_score(\n",
    "        model, X_reduced, y_train, cv=splits, scoring=scorer, n_jobs=-1, verbose=0)\n",
    "    print('Topic',i,'kappa_score:{}'.format(round(cv_scores_kappa_scorer.mean(),2)))\n",
    "    kappas_means.append(cv_scores_kappa_scorer.mean())\n",
    "    weights.append(len(X_reduced))\n",
    "mqwk = mean_quadratic_weighted_kappa(kappas_means, weights=weights)\n",
    "print('Every topic kappa score')\n",
    "for i in kappas_means:\n",
    "    print(i)\n",
    "print('Weighted by topic Kappa score: {}'.format(round(mqwk,2)))\n",
    "print('Average Kappa score: {}'.format(round(np.array(kappas_means).mean(),2)))"
   ]
  },
  {
   "cell_type": "markdown",
   "metadata": {},
   "source": [
    "# Testing on a test-set"
   ]
  },
  {
   "cell_type": "code",
   "execution_count": 14,
   "metadata": {},
   "outputs": [
    {
     "name": "stdout",
     "output_type": "stream",
     "text": [
      "topic1  0.74\n",
      "topic2  0.49\n",
      "topic3  0.64\n",
      "topic4  0.63\n",
      "topic5  0.78\n",
      "topic6  0.75\n",
      "topic7  0.68\n",
      "topic8  0.6\n",
      "Weighted by topic Kappa score: 0.68\n",
      "Average Kappa score: 0.66\n"
     ]
    }
   ],
   "source": [
    "kappas = []\n",
    "weights = []\n",
    "for i in range(1,9):\n",
    "    if i == 8:\n",
    "        model = Ridge()\n",
    "        scorer = kappa\n",
    "    else:\n",
    "        model = model_stacked_clf\n",
    "        scorer = cohen_kappa_score\n",
    "    X_reduced, y_train = topics_preprocessing(essays,i,feature_importance=False)\n",
    "    X_reduced_test,y_test = topics_preprocessing(essays_test,i,feature_importance=False)\n",
    "    model.fit(X_reduced,y_train)\n",
    "    prediction = model.predict(X_reduced_test)\n",
    "    score = scorer(y_test,prediction,weights=\"quadratic\")\n",
    "    print('topic{} '.format(i),round(score,2))\n",
    "    kappas.append(score)\n",
    "    weights.append(len(X_reduced))\n",
    "mqwk = mean_quadratic_weighted_kappa(kappas, weights=weights)\n",
    "print('Weighted by topic Kappa score: {}'.format(round(mqwk,2)))\n",
    "print('Average Kappa score: {}'.format(round(np.array(kappas).mean(),2)))"
   ]
  },
  {
   "cell_type": "markdown",
   "metadata": {},
   "source": [
    "# Training on 2 types of essay and saving all vectorizors and the final model"
   ]
  },
  {
   "cell_type": "code",
   "execution_count": 15,
   "metadata": {},
   "outputs": [],
   "source": [
    "#preprocessing\n",
    "persuasive_essays = topics_preprocessing(\n",
    "    essays,1,save_to_pkl=True,name_prefix='persuasive',feature_importance=False)\n",
    "critical_response_essays = topics_preprocessing(\n",
    "    essays,5,save_to_pkl=True,name_prefix='critical',feature_importance=False)\n",
    "\n",
    "#Training the models\n",
    "model_saving_persuasive = model_stacked_clf\n",
    "model_saving_persuasive.fit(persuasive_essays[0], persuasive_essays[1])\n",
    "pickle.dump(model_saving_persuasive,open('persuasive_model.pkl','wb'))\n",
    "model_saving_critical = model_stacked_clf\n",
    "model_saving_critical.fit(critical_response_essays[0], critical_response_essays[1])\n",
    "pickle.dump(model_saving_critical,open('critical_model.pkl','wb'))"
   ]
  }
 ],
 "metadata": {
  "kernelspec": {
   "display_name": "Python 3",
   "language": "python",
   "name": "python3"
  },
  "language_info": {
   "codemirror_mode": {
    "name": "ipython",
    "version": 3
   },
   "file_extension": ".py",
   "mimetype": "text/x-python",
   "name": "python",
   "nbconvert_exporter": "python",
   "pygments_lexer": "ipython3",
   "version": "3.7.6"
  },
  "toc-autonumbering": true,
  "toc-showcode": true,
  "toc-showmarkdowntxt": true,
  "toc-showtags": false
 },
 "nbformat": 4,
 "nbformat_minor": 4
}
