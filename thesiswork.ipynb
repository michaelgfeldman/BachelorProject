{
 "cells": [
  {
   "cell_type": "markdown",
   "metadata": {},
   "source": [
    "# First steps"
   ]
  },
  {
   "cell_type": "code",
   "execution_count": 394,
   "metadata": {
    "ExecuteTime": {
     "end_time": "2020-03-05T12:58:35.393570Z",
     "start_time": "2020-03-05T12:58:32.023159Z"
    },
    "code_folding": []
   },
   "outputs": [],
   "source": [
    "#importing\n",
    "import warnings\n",
    "warnings.filterwarnings('ignore')\n",
    "import pickle\n",
    "import numpy as np\n",
    "import pandas as pd\n",
    "import matplotlib.pyplot as plt\n",
    "import seaborn as sns\n",
    "from scipy.sparse import hstack\n",
    "import spacy\n",
    "import en_core_web_sm\n",
    "from spacy.lang.en.stop_words import STOP_WORDS\n",
    "from string import punctuation\n",
    "import nltk\n",
    "from catboost import CatBoostClassifier, CatBoostRegressor\n",
    "from sklearn.naive_bayes import MultinomialNB\n",
    "from sklearn.decomposition import TruncatedSVD\n",
    "from sklearn.feature_selection import VarianceThreshold, SelectKBest, f_classif, f_regression\n",
    "from sklearn.feature_extraction.text import TfidfVectorizer, CountVectorizer, TfidfTransformer\n",
    "from sklearn.model_selection import cross_val_score, GridSearchCV, cross_val_predict, KFold, StratifiedKFold, train_test_split\n",
    "from sklearn.metrics import classification_report, roc_auc_score, cohen_kappa_score, make_scorer\n",
    "from sklearn.preprocessing import StandardScaler\n",
    "from sklearn.linear_model import LogisticRegression, LinearRegression, ElasticNet\n",
    "from sklearn.ensemble import RandomForestClassifier,RandomForestRegressor, ExtraTreesClassifier\n",
    "from sklearn.feature_selection import chi2\n",
    "from sklearn.svm import SVC, LinearSVC\n",
    "from tqdm import tqdm_notebook\n",
    "from pathlib import Path\n",
    "words_english = set(nltk.corpus.words.words())\n",
    "correct_words_set = set(nltk.corpus.brown.words())\n",
    "lematizator = en_core_web_sm.load()\n",
    "plt.style.use('seaborn-colorblind')\n",
    "%matplotlib inline"
   ]
  },
  {
   "cell_type": "code",
   "execution_count": 395,
   "metadata": {
    "ExecuteTime": {
     "end_time": "2020-03-05T12:41:15.069801Z",
     "start_time": "2020-03-05T12:41:15.066118Z"
    }
   },
   "outputs": [],
   "source": [
    "# downloading the data\n",
    "RANDOM_STATE = 47\n",
    "essays = pd.read_excel('training_set_rel3.xlsx')\n",
    "essays = essays[['essay_set','essay', 'domain1_score']].dropna()"
   ]
  },
  {
   "cell_type": "code",
   "execution_count": 396,
   "metadata": {
    "ExecuteTime": {
     "end_time": "2020-03-05T12:41:15.166496Z",
     "start_time": "2020-03-05T12:41:15.124158Z"
    }
   },
   "outputs": [
    {
     "data": {
      "text/html": [
       "<div>\n",
       "<style scoped>\n",
       "    .dataframe tbody tr th:only-of-type {\n",
       "        vertical-align: middle;\n",
       "    }\n",
       "\n",
       "    .dataframe tbody tr th {\n",
       "        vertical-align: top;\n",
       "    }\n",
       "\n",
       "    .dataframe thead th {\n",
       "        text-align: right;\n",
       "    }\n",
       "</style>\n",
       "<table border=\"1\" class=\"dataframe\">\n",
       "  <thead>\n",
       "    <tr style=\"text-align: right;\">\n",
       "      <th></th>\n",
       "      <th>essay_set</th>\n",
       "      <th>essay</th>\n",
       "      <th>domain1_score</th>\n",
       "    </tr>\n",
       "  </thead>\n",
       "  <tbody>\n",
       "    <tr>\n",
       "      <th>0</th>\n",
       "      <td>1</td>\n",
       "      <td>Dear local newspaper, I think effects computer...</td>\n",
       "      <td>8.0</td>\n",
       "    </tr>\n",
       "    <tr>\n",
       "      <th>1</th>\n",
       "      <td>1</td>\n",
       "      <td>Dear @CAPS1 @CAPS2, I believe that using compu...</td>\n",
       "      <td>9.0</td>\n",
       "    </tr>\n",
       "    <tr>\n",
       "      <th>2</th>\n",
       "      <td>1</td>\n",
       "      <td>Dear, @CAPS1 @CAPS2 @CAPS3 More and more peopl...</td>\n",
       "      <td>7.0</td>\n",
       "    </tr>\n",
       "    <tr>\n",
       "      <th>3</th>\n",
       "      <td>1</td>\n",
       "      <td>Dear Local Newspaper, @CAPS1 I have found that...</td>\n",
       "      <td>10.0</td>\n",
       "    </tr>\n",
       "    <tr>\n",
       "      <th>4</th>\n",
       "      <td>1</td>\n",
       "      <td>Dear @LOCATION1, I know having computers has a...</td>\n",
       "      <td>8.0</td>\n",
       "    </tr>\n",
       "  </tbody>\n",
       "</table>\n",
       "</div>"
      ],
      "text/plain": [
       "   essay_set                                              essay  domain1_score\n",
       "0          1  Dear local newspaper, I think effects computer...            8.0\n",
       "1          1  Dear @CAPS1 @CAPS2, I believe that using compu...            9.0\n",
       "2          1  Dear, @CAPS1 @CAPS2 @CAPS3 More and more peopl...            7.0\n",
       "3          1  Dear Local Newspaper, @CAPS1 I have found that...           10.0\n",
       "4          1  Dear @LOCATION1, I know having computers has a...            8.0"
      ]
     },
     "execution_count": 396,
     "metadata": {},
     "output_type": "execute_result"
    }
   ],
   "source": [
    "essays.head()"
   ]
  },
  {
   "cell_type": "code",
   "execution_count": 397,
   "metadata": {
    "ExecuteTime": {
     "end_time": "2020-03-05T12:41:15.199879Z",
     "start_time": "2020-03-05T12:41:15.169995Z"
    }
   },
   "outputs": [
    {
     "name": "stdout",
     "output_type": "stream",
     "text": [
      "<class 'pandas.core.frame.DataFrame'>\n",
      "Int64Index: 12977 entries, 0 to 12977\n",
      "Data columns (total 3 columns):\n",
      "essay_set        12977 non-null int64\n",
      "essay            12977 non-null object\n",
      "domain1_score    12977 non-null float64\n",
      "dtypes: float64(1), int64(1), object(1)\n",
      "memory usage: 405.5+ KB\n",
      "None\n"
     ]
    }
   ],
   "source": [
    "print(essays.info())"
   ]
  },
  {
   "cell_type": "code",
   "execution_count": 398,
   "metadata": {
    "ExecuteTime": {
     "end_time": "2020-03-05T12:41:15.546573Z",
     "start_time": "2020-03-05T12:41:15.218054Z"
    }
   },
   "outputs": [
    {
     "data": {
      "text/plain": [
       "<matplotlib.axes._subplots.AxesSubplot at 0x7fe5e5bf2da0>"
      ]
     },
     "execution_count": 398,
     "metadata": {},
     "output_type": "execute_result"
    },
    {
     "data": {
      "image/png": "[encoded data removed]",
      "text/plain": [
       "<Figure size 432x288 with 1 Axes>"
      ]
     },
     "metadata": {
      "needs_background": "light"
     },
     "output_type": "display_data"
    }
   ],
   "source": [
    "#Topics distribution\n",
    "sns.countplot(essays['essay_set'])"
   ]
  },
  {
   "cell_type": "code",
   "execution_count": 399,
   "metadata": {
    "ExecuteTime": {
     "end_time": "2020-03-03T12:24:55.286679Z",
     "start_time": "2020-03-03T12:24:52.521410Z"
    }
   },
   "outputs": [
    {
     "data": {
      "image/png": "[encoded data removed]",
      "text/plain": [
       "<Figure size 648x648 with 8 Axes>"
      ]
     },
     "metadata": {
      "needs_background": "light"
     },
     "output_type": "display_data"
    }
   ],
   "source": [
    "#Scors distribution in each topic\n",
    "topic_number = 0\n",
    "fig, ax = plt.subplots(4,2, figsize=(9,9), sharey=False)\n",
    "for i in range(4):\n",
    "    for j in range(2):\n",
    "        topic_number += 1\n",
    "        essays[essays['essay_set'] == topic_number]\\\n",
    "            .groupby('domain1_score')['essay_set'].agg('count')\\\n",
    "            .plot.bar(ax=ax[i, j], rot=0)\n",
    "        ax[i,j].set_title('Topic %i' % topic_number)\n",
    "ax[3,0].locator_params(nbins=10)\n",
    "ax[3,1].locator_params(nbins=10)\n",
    "plt.suptitle('Histograms of essay scores')\n",
    "plt.tight_layout(rect=[0, 0.03, 1, 0.95])\n",
    "plt.show()"
   ]
  },
  {
   "cell_type": "markdown",
   "metadata": {},
   "source": [
    "# Feature Engineering"
   ]
  },
  {
   "cell_type": "code",
   "execution_count": 400,
   "metadata": {
    "ExecuteTime": {
     "end_time": "2020-03-05T12:41:39.816586Z",
     "start_time": "2020-03-05T12:41:39.803726Z"
    }
   },
   "outputs": [],
   "source": [
    "#List of all parts of speech\n",
    "list_of_all_tags=['LS', 'TO', 'VBN', \"''\", 'WP', 'UH', 'VBG', 'JJ', 'VBZ', '--', 'VBP', 'NN', 'DT', 'PRP', ':', 'WP$', 'NNPS', 'PRP$', 'WDT', '(', ')', '.', ',', '``', '$', 'RB', 'RBR', 'RBS', 'VBD', 'IN', 'FW', 'RP', 'JJR', 'JJS', 'PDT', 'MD', 'VB', 'WRB', 'NNP', 'EX', 'NNS', 'SYM', 'CC', 'CD', 'POS']"
   ]
  },
  {
   "cell_type": "code",
   "execution_count": 401,
   "metadata": {
    "ExecuteTime": {
     "end_time": "2020-03-05T12:41:30.173065Z",
     "start_time": "2020-03-05T12:41:30.163080Z"
    }
   },
   "outputs": [],
   "source": [
    "# Choosing essay topic, reseting indexes and lowering all words\n",
    "essays = essays[(essays['essay_set']==4)]\n",
    "essays['essay'] = essays['essay'].apply(lambda x : x.lower())\n",
    "essays.reset_index(drop=True,inplace=True)"
   ]
  },
  {
   "cell_type": "code",
   "execution_count": 402,
   "metadata": {
    "ExecuteTime": {
     "end_time": "2020-03-05T12:41:33.588437Z",
     "start_time": "2020-03-05T12:41:32.817923Z"
    }
   },
   "outputs": [
    {
     "data": {
      "application/vnd.jupyter.widget-view+json": {
       "model_id": "ea2900648efc4d53b62ca5b0ee664a4d",
       "version_major": 2,
       "version_minor": 0
      },
      "text/plain": [
       "HBox(children=(FloatProgress(value=0.0, max=1771.0), HTML(value='')))"
      ]
     },
     "metadata": {},
     "output_type": "display_data"
    },
    {
     "name": "stdout",
     "output_type": "stream",
     "text": [
      "\n"
     ]
    }
   ],
   "source": [
    "#Splitting essays by sentences and counting them\n",
    "nltk_sentences_tokinized = []\n",
    "for i in tqdm_notebook(essays['essay']):\n",
    "    nltk_sentences_tokinized += [nltk.sent_tokenize(i)]\n",
    "essays['essay_sentences'] = nltk_sentences_tokinized\n",
    "essays['sentences_count'] = essays[\"essay_sentences\"].apply(lambda x:len(x))"
   ]
  },
  {
   "cell_type": "code",
   "execution_count": 403,
   "metadata": {
    "ExecuteTime": {
     "end_time": "2020-03-05T12:41:36.579929Z",
     "start_time": "2020-03-05T12:41:33.591341Z"
    }
   },
   "outputs": [
    {
     "data": {
      "application/vnd.jupyter.widget-view+json": {
       "model_id": "3977e6d585dc421082d36ac9281edeaf",
       "version_major": 2,
       "version_minor": 0
      },
      "text/plain": [
       "HBox(children=(FloatProgress(value=0.0, max=1771.0), HTML(value='')))"
      ]
     },
     "metadata": {},
     "output_type": "display_data"
    },
    {
     "name": "stdout",
     "output_type": "stream",
     "text": [
      "\n"
     ]
    }
   ],
   "source": [
    "#Removing punctuation and counting words\n",
    "nltk_words_tokinized = []\n",
    "for i in tqdm_notebook(essays['essay']):\n",
    "    nltk_words_tokinized += [[word for word in nltk.word_tokenize(i) if word not in punctuation]]\n",
    "essays['essay_words'] = nltk_words_tokinized\n",
    "essays['words_count'] = essays['essay_words'].apply(lambda x:len(x))"
   ]
  },
  {
   "cell_type": "code",
   "execution_count": 404,
   "metadata": {
    "ExecuteTime": {
     "end_time": "2020-03-05T12:41:39.390902Z",
     "start_time": "2020-03-05T12:41:36.583357Z"
    },
    "code_folding": []
   },
   "outputs": [
    {
     "data": {
      "application/vnd.jupyter.widget-view+json": {
       "model_id": "16b6def502d94b5f837c276d765569ed",
       "version_major": 2,
       "version_minor": 0
      },
      "text/plain": [
       "HBox(children=(FloatProgress(value=0.0, max=1771.0), HTML(value='')))"
      ]
     },
     "metadata": {},
     "output_type": "display_data"
    },
    {
     "name": "stdout",
     "output_type": "stream",
     "text": [
      "\n"
     ]
    }
   ],
   "source": [
    "#Counting punctuation, spelling errors, charachters, words per sentence ratio, average sentence length\n",
    "def words_filter(essays):\n",
    "    punctuation_count = []\n",
    "    misspelled_words_count = []\n",
    "    for essay in tqdm_notebook(essays):\n",
    "        pc_temp=0\n",
    "        mw_temp=0\n",
    "        for word in nltk.word_tokenize(essay):\n",
    "            if word.lower() not in punctuation:\n",
    "                if word.lower() not in correct_words_set:\n",
    "                    mw_temp+=1\n",
    "            else:\n",
    "                pc_temp+=1\n",
    "        punctuation_count.append(pc_temp)\n",
    "        misspelled_words_count.append(mw_temp)\n",
    "    return punctuation_count,misspelled_words_count\n",
    "word_features = words_filter(essays['essay'])\n",
    "essays['punctuatioon_count'] = word_features[0]\n",
    "essays['spelling_errors'] = word_features[1]\n",
    "essays['character_count'] = essays['essay'].apply(lambda essay:len(essay))\n",
    "essays['words_per_sent_ratio'] = round(essays['words_count']/essays['sentences_count'])\n",
    "essays['avg_sen_len'] = round(essays['character_count']/essays['sentences_count'])"
   ]
  },
  {
   "cell_type": "code",
   "execution_count": 405,
   "metadata": {
    "ExecuteTime": {
     "end_time": "2020-03-05T12:41:39.560497Z",
     "start_time": "2020-03-05T12:41:39.394994Z"
    }
   },
   "outputs": [
    {
     "data": {
      "application/vnd.jupyter.widget-view+json": {
       "model_id": "bdc280e79aee4f7180c850f539a93a59",
       "version_major": 2,
       "version_minor": 0
      },
      "text/plain": [
       "HBox(children=(FloatProgress(value=0.0, max=1771.0), HTML(value='')))"
      ]
     },
     "metadata": {},
     "output_type": "display_data"
    },
    {
     "name": "stdout",
     "output_type": "stream",
     "text": [
      "\n"
     ]
    }
   ],
   "source": [
    "# Counting only english words\n",
    "english_words=[]\n",
    "for listofwords in tqdm_notebook(essays['essay_words']):\n",
    "    temp_english_word=0\n",
    "    for word in listofwords:\n",
    "        if word in words_english:\n",
    "            temp_english_word+=1\n",
    "    english_words.append(temp_english_word)\n",
    "essays['english_words']=english_words"
   ]
  },
  {
   "cell_type": "code",
   "execution_count": 406,
   "metadata": {
    "ExecuteTime": {
     "end_time": "2020-03-05T12:41:39.765423Z",
     "start_time": "2020-03-05T12:41:39.562963Z"
    },
    "code_folding": []
   },
   "outputs": [
    {
     "data": {
      "application/vnd.jupyter.widget-view+json": {
       "model_id": "614d0a8c7b2c449bac209501b51db356",
       "version_major": 2,
       "version_minor": 0
      },
      "text/plain": [
       "HBox(children=(FloatProgress(value=0.0, max=1771.0), HTML(value='')))"
      ]
     },
     "metadata": {},
     "output_type": "display_data"
    },
    {
     "name": "stdout",
     "output_type": "stream",
     "text": [
      "\n"
     ]
    }
   ],
   "source": [
    "#Counting only non-stopwords and stopwords\n",
    "nltk_words_tokinized_no_stop_words = []\n",
    "stopwords_count = []\n",
    "for tolinized_list in tqdm_notebook(essays['essay_words']):\n",
    "    temp_stop_words_count = 0\n",
    "    temp_nsw = []\n",
    "    for word in tolinized_list:\n",
    "        if word not in STOP_WORDS:\n",
    "            temp_nsw.append(word)\n",
    "        else:\n",
    "            temp_stop_words_count+=1\n",
    "    nltk_words_tokinized_no_stop_words.append(temp_nsw)\n",
    "    stopwords_count.append(temp_stop_words_count)\n",
    "essays['essay_words'] = nltk_words_tokinized_no_stop_words\n",
    "essays['stopwords_count'] = stopwords_count"
   ]
  },
  {
   "cell_type": "code",
   "execution_count": 407,
   "metadata": {},
   "outputs": [],
   "source": [
    "#Joining essay without stopwords\n",
    "def words_joiner(essays):\n",
    "    for line_number in tqdm_notebook(range(essays.index[0],essays.index[-1]+1)):\n",
    "        essays['essay_words'][line_number] = ' '.join(essays['essay_words'][line_number])"
   ]
  },
  {
   "cell_type": "code",
   "execution_count": 408,
   "metadata": {
    "ExecuteTime": {
     "end_time": "2020-03-05T12:41:39.881626Z",
     "start_time": "2020-03-05T12:41:39.828656Z"
    }
   },
   "outputs": [
    {
     "data": {
      "application/vnd.jupyter.widget-view+json": {
       "model_id": "9317a48bc1944bdca94bfeea2d48e6cb",
       "version_major": 2,
       "version_minor": 0
      },
      "text/plain": [
       "HBox(children=(FloatProgress(value=0.0, max=1771.0), HTML(value='')))"
      ]
     },
     "metadata": {},
     "output_type": "display_data"
    },
    {
     "name": "stdout",
     "output_type": "stream",
     "text": [
      "\n"
     ]
    },
    {
     "data": {
      "application/vnd.jupyter.widget-view+json": {
       "model_id": "e8207831d0f04430885ed88c0be84058",
       "version_major": 2,
       "version_minor": 0
      },
      "text/plain": [
       "HBox(children=(FloatProgress(value=0.0, max=1771.0), HTML(value='')))"
      ]
     },
     "metadata": {},
     "output_type": "display_data"
    },
    {
     "name": "stdout",
     "output_type": "stream",
     "text": [
      "\n"
     ]
    }
   ],
   "source": [
    "#Tagging evry word with the corespondent part of speech\n",
    "for i in list_of_all_tags:\n",
    "    essays[i] = 0\n",
    "for line_number in tqdm_notebook(range(essays.index[0],essays.index[-1]+1)):\n",
    "    temp_pos_list = np.unique(np.array(nltk.pos_tag(essays['essay_words'][line_number]))[:,1], return_counts=True)\n",
    "    pos_list = list(zip(temp_pos_list[0],temp_pos_list[1]))\n",
    "    for i in pos_list:\n",
    "        essays[i[0]][line_number]=i[1]\n",
    "essays.drop(columns=[\"''\", '--', ':', '(', ')', '.', ',', '``', '$','essay','essay_sentences'],inplace=True,axis=1)\n",
    "words_joiner(essays)"
   ]
  },
  {
   "cell_type": "code",
   "execution_count": 409,
   "metadata": {},
   "outputs": [
    {
     "data": {
      "application/vnd.jupyter.widget-view+json": {
       "model_id": "625c2dea10b247fab96b9ee1a52511fb",
       "version_major": 2,
       "version_minor": 0
      },
      "text/plain": [
       "HBox(children=(FloatProgress(value=0.0, max=1771.0), HTML(value='')))"
      ]
     },
     "metadata": {},
     "output_type": "display_data"
    },
    {
     "name": "stdout",
     "output_type": "stream",
     "text": [
      "\n"
     ]
    },
    {
     "data": {
      "application/vnd.jupyter.widget-view+json": {
       "model_id": "198c6b9417634d26b8e159b95920dd36",
       "version_major": 2,
       "version_minor": 0
      },
      "text/plain": [
       "HBox(children=(FloatProgress(value=0.0, max=1771.0), HTML(value='')))"
      ]
     },
     "metadata": {},
     "output_type": "display_data"
    },
    {
     "name": "stdout",
     "output_type": "stream",
     "text": [
      "\n"
     ]
    }
   ],
   "source": [
    "#Reducing every word to its grammatical root and counting absolute and unique number of those roots\n",
    "lemmatized_essay_words = []\n",
    "for essay in  tqdm_notebook(essays['essay_words']):\n",
    "    lemmatized = [t.lemma_ for t in lematizator(essay)]\n",
    "    lemmatized_essay_words.append(lemmatized)\n",
    "essays['essay_words'] = lemmatized_essay_words\n",
    "essays['token_count'] = essays['essay_words'].apply(lambda x: len(x))\n",
    "essays['unique_token_count'] = essays['essay_words'].apply(lambda x: len(set(x)))\n",
    "words_joiner(essays)"
   ]
  },
  {
   "cell_type": "markdown",
   "metadata": {},
   "source": [
    "# Modeling"
   ]
  },
  {
   "cell_type": "code",
   "execution_count": 410,
   "metadata": {
    "ExecuteTime": {
     "end_time": "2020-03-05T12:41:52.126107Z",
     "start_time": "2020-03-05T12:41:50.525416Z"
    }
   },
   "outputs": [],
   "source": [
    "#Vectorization of text data\n",
    "tv = TfidfVectorizer(ngram_range=(1, 5), max_features=100000)\n",
    "essay_words_vectorized = tv.fit_transform(essays['essay_words'])\n",
    "y_train = essays['domain1_score']"
   ]
  },
  {
   "cell_type": "code",
   "execution_count": 443,
   "metadata": {
    "ExecuteTime": {
     "end_time": "2020-03-05T12:41:52.133753Z",
     "start_time": "2020-03-05T12:41:52.128125Z"
    }
   },
   "outputs": [],
   "source": [
    "#All choosen ML models\n",
    "lin_reg = LinearRegression(n_jobs=-1,normalize=True)\n",
    "log_clf = LogisticRegression(C=20,n_jobs=-1,random_state = RANDOM_STATE)\n",
    "catboost_reg = CatBoostRegressor(n_estimators=1000,random_state = RANDOM_STATE)\n",
    "svm = LinearSVC(random_state = RANDOM_STATE)\n",
    "random_forest = RandomForestClassifier(random_state = RANDOM_STATE)\n",
    "catboost_clf=CatBoostClassifier(n_estimators=1000,random_state = RANDOM_STATE)\n",
    "NBC=MultinomialNB()"
   ]
  },
  {
   "cell_type": "code",
   "execution_count": 412,
   "metadata": {
    "ExecuteTime": {
     "end_time": "2020-03-05T13:01:10.770939Z",
     "start_time": "2020-03-05T13:01:10.745516Z"
    }
   },
   "outputs": [],
   "source": [
    "#Numerical features selection\n",
    "\n",
    "#sel_varience = VarianceThreshold(threshold=(.9 * (1 - .9)))\n",
    "#selected_sel_varience = sel_varience.fit_transform(essays.drop(['domain1_score','essay_words','essay_set'],axis=1))\n",
    "sel_k_best = SelectKBest(chi2, k=15)\n",
    "selected_sel_k_best = sel_k_best.fit_transform(essays.drop(['domain1_score','essay_words','essay_set'],axis=1),y_train)"
   ]
  },
  {
   "cell_type": "code",
   "execution_count": 413,
   "metadata": {},
   "outputs": [
    {
     "data": {
      "image/png": "[encoded data removed]",
      "text/plain": [
       "<Figure size 432x288 with 1 Axes>"
      ]
     },
     "metadata": {
      "needs_background": "light"
     },
     "output_type": "display_data"
    }
   ],
   "source": [
    "#Feature importances visualization\n",
    "X = essays[essays.drop(['domain1_score','essay_words','essay_set'],axis=1).columns[(sel_k_best.get_support())]]\n",
    "y = y_train.astype(np.float64)\n",
    "forest = ExtraTreesClassifier(n_estimators=250, random_state=26)\n",
    "forest.fit(X, y)\n",
    "std = np.std([tree.feature_importances_ for tree in forest.estimators_], axis=0)\n",
    "# plot feature importances\n",
    "features = pd.DataFrame({'feature_name': X.columns, 'importance': forest.feature_importances_, 'std': std})\n",
    "features.sort_values('importance').plot.barh(x='feature_name', y='importance', xerr='std', legend=False)\n",
    "plt.title('Gini importances of forest features')\n",
    "plt.xlabel('Gini-importance')\n",
    "plt.tight_layout()\n",
    "plt.show()"
   ]
  },
  {
   "cell_type": "code",
   "execution_count": 415,
   "metadata": {},
   "outputs": [
    {
     "name": "stdout",
     "output_type": "stream",
     "text": [
      "(1771, 30)\n"
     ]
    }
   ],
   "source": [
    "#Performng numerical features scaling, stacking with vectorized text data and dimentionality reduction\n",
    "pca = TruncatedSVD(n_components=15,random_state = RANDOM_STATE)\n",
    "scaleer = StandardScaler(copy=True, with_mean=True, with_std=True)\n",
    "numerical_scaled = scaleer.fit_transform(selected_sel_k_best)\n",
    "essay_words_vectorized_reduced = pca.fit_transform(essay_words_vectorized)\n",
    "X_reduced = np.concatenate((essay_words_vectorized_reduced,numerical_scaled),axis=1)\n",
    "print(X_reduced.shape)"
   ]
  },
  {
   "cell_type": "code",
   "execution_count": 444,
   "metadata": {
    "ExecuteTime": {
     "end_time": "2020-03-05T13:01:22.991653Z",
     "start_time": "2020-03-05T13:01:17.006927Z"
    }
   },
   "outputs": [
    {
     "name": "stderr",
     "output_type": "stream",
     "text": [
      "[Parallel(n_jobs=-1)]: Using backend LokyBackend with 4 concurrent workers.\n",
      "[Parallel(n_jobs=-1)]: Done   5 out of   5 | elapsed:    0.5s finished\n",
      "[Parallel(n_jobs=-1)]: Using backend LokyBackend with 4 concurrent workers.\n",
      "[Parallel(n_jobs=-1)]: Done   5 out of   5 | elapsed:    0.6s finished\n"
     ]
    }
   ],
   "source": [
    "#Performing 5 fold cross-validation\n",
    "model = log_clf\n",
    "kappa_scorer = make_scorer(cohen_kappa_score)\n",
    "splits = KFold(n_splits=5,random_state = RANDOM_STATE)\n",
    "cv_scores_kappa_scorer = cross_val_score(model, X_reduced, y_train, cv=splits, scoring=kappa_scorer, n_jobs=-1, verbose=True)\n",
    "cv_scores_accuracy = cross_val_score(model, X_reduced, y_train, cv=splits, scoring='accuracy', n_jobs=-1, verbose=True)"
   ]
  },
  {
   "cell_type": "code",
   "execution_count": 445,
   "metadata": {
    "ExecuteTime": {
     "end_time": "2020-03-05T13:01:23.015221Z",
     "start_time": "2020-03-05T13:01:22.999763Z"
    }
   },
   "outputs": [
    {
     "name": "stdout",
     "output_type": "stream",
     "text": [
      "folds average accuracy score:0.6589559958621788,folds average kappa score:0.5139691578288463\n",
      "accuracy_scores:[0.64788732 0.65536723 0.66949153 0.65819209 0.66384181]\n",
      "kappa_scores:[0.49121158 0.5104456  0.51973562 0.52127945 0.52717355]\n"
     ]
    }
   ],
   "source": [
    "#Printing results\n",
    "print('folds average accuracy score:{},folds average kappa score:{}'.format(cv_scores_accuracy.mean(),cv_scores_kappa_scorer.mean()))\n",
    "print('accuracy_scores:{}'.format(cv_scores_accuracy))\n",
    "print('kappa_scores:{}'.format(cv_scores_kappa_scorer))"
   ]
  },
  {
   "cell_type": "markdown",
   "metadata": {},
   "source": [
    "# Saving the final model"
   ]
  },
  {
   "cell_type": "code",
   "execution_count": 446,
   "metadata": {},
   "outputs": [],
   "source": [
    "#Training the model on whole data than saving the model\n",
    "model = LogisticRegression(C=10,n_jobs=-1,random_state = RANDOM_STATE)\n",
    "model.fit(X_reduced, y_train)\n",
    "pickle.dump(model,open('model.pkl','wb'))"
   ]
  }
 ],
 "metadata": {
  "kernelspec": {
   "display_name": "Python 3",
   "language": "python",
   "name": "python3"
  },
  "language_info": {
   "codemirror_mode": {
    "name": "ipython",
    "version": 3
   },
   "file_extension": ".py",
   "mimetype": "text/x-python",
   "name": "python",
   "nbconvert_exporter": "python",
   "pygments_lexer": "ipython3",
   "version": "3.6.5"
  },
  "toc-autonumbering": true,
  "toc-showcode": false,
  "toc-showmarkdowntxt": false,
  "toc-showtags": false
 },
 "nbformat": 4,
 "nbformat_minor": 4
}
