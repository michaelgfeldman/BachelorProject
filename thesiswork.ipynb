{
 "cells": [
  {
   "cell_type": "markdown",
   "metadata": {},
   "source": [
    "# First steps"
   ]
  },
  {
   "cell_type": "code",
   "execution_count": 522,
   "metadata": {
    "ExecuteTime": {
     "end_time": "2020-03-03T11:13:11.183247Z",
     "start_time": "2020-03-03T11:13:11.173697Z"
    },
    "code_folding": []
   },
   "outputs": [],
   "source": [
    "# do a gridsearch\n",
    "# palacge everything to delivare it as a project\n",
    "# make it to the git\n",
    "# make the code look sexy\n",
    "# remove havily coralated features\n",
    "# turn everything to Spacy from NLTK\n",
    "# lemmatizations and other features that so not have\n",
    "# word2vec vectoriztion instead of tfidf\n",
    "# try to use classification when its possible and regression when it's not"
   ]
  },
  {
   "cell_type": "code",
   "execution_count": 523,
   "metadata": {
    "ExecuteTime": {
     "end_time": "2020-03-05T12:58:35.393570Z",
     "start_time": "2020-03-05T12:58:32.023159Z"
    },
    "code_folding": []
   },
   "outputs": [],
   "source": [
    "#importing\n",
    "import numpy as np\n",
    "import pandas as pd\n",
    "import matplotlib.pyplot as plt\n",
    "import seaborn as sns\n",
    "from scipy.sparse import hstack\n",
    "import spacy\n",
    "import en_core_web_sm\n",
    "from spacy.lang.en.stop_words import STOP_WORDS\n",
    "from string import punctuation\n",
    "import nltk\n",
    "from catboost import CatBoostClassifier, CatBoostRegressor\n",
    "from sklearn.naive_bayes import MultinomialNB\n",
    "from sklearn.decomposition import TruncatedSVD\n",
    "from sklearn.feature_selection import VarianceThreshold, SelectKBest, f_classif, f_regression\n",
    "from sklearn.feature_extraction.text import TfidfVectorizer, CountVectorizer, TfidfTransformer\n",
    "from sklearn.model_selection import cross_val_score, GridSearchCV, cross_val_predict, KFold, StratifiedKFold\n",
    "from sklearn.metrics import classification_report, roc_auc_score, cohen_kappa_score, make_scorer\n",
    "from skll.metrics import kappa\n",
    "from sklearn.preprocessing import StandardScaler\n",
    "from sklearn.linear_model import LogisticRegression, LinearRegression, ElasticNet\n",
    "from sklearn.ensemble import RandomForestClassifier,RandomForestRegressor\n",
    "from sklearn.feature_selection import chi2\n",
    "from sklearn.svm import SVC, LinearSVC\n",
    "from tqdm import tqdm_notebook\n",
    "from pathlib import Path\n",
    "import warnings\n",
    "words_english = set(nltk.corpus.words.words())\n",
    "correct_words_set = set(nltk.corpus.brown.words())\n",
    "lematizator = en_core_web_sm.load()\n",
    "warnings.filterwarnings('ignore')\n",
    "plt.style.use('seaborn-colorblind')\n",
    "%matplotlib inline"
   ]
  },
  {
   "cell_type": "code",
   "execution_count": 524,
   "metadata": {
    "ExecuteTime": {
     "end_time": "2020-03-05T12:41:15.069801Z",
     "start_time": "2020-03-05T12:41:15.066118Z"
    }
   },
   "outputs": [],
   "source": [
    "RANDOM_STATE = 47\n",
    "essays = pd.read_excel('/home/michael/Desktop/thesiswork/data/training_set_rel3.xlsx')\n",
    "essays = essays[['essay_set','essay', 'domain1_score']].dropna()"
   ]
  },
  {
   "cell_type": "code",
   "execution_count": 525,
   "metadata": {
    "ExecuteTime": {
     "end_time": "2020-03-05T12:41:15.166496Z",
     "start_time": "2020-03-05T12:41:15.124158Z"
    }
   },
   "outputs": [
    {
     "data": {
      "text/html": [
       "<div>\n",
       "<style scoped>\n",
       "    .dataframe tbody tr th:only-of-type {\n",
       "        vertical-align: middle;\n",
       "    }\n",
       "\n",
       "    .dataframe tbody tr th {\n",
       "        vertical-align: top;\n",
       "    }\n",
       "\n",
       "    .dataframe thead th {\n",
       "        text-align: right;\n",
       "    }\n",
       "</style>\n",
       "<table border=\"1\" class=\"dataframe\">\n",
       "  <thead>\n",
       "    <tr style=\"text-align: right;\">\n",
       "      <th></th>\n",
       "      <th>essay_set</th>\n",
       "      <th>essay</th>\n",
       "      <th>domain1_score</th>\n",
       "    </tr>\n",
       "  </thead>\n",
       "  <tbody>\n",
       "    <tr>\n",
       "      <th>0</th>\n",
       "      <td>1</td>\n",
       "      <td>Dear local newspaper, I think effects computer...</td>\n",
       "      <td>8.0</td>\n",
       "    </tr>\n",
       "    <tr>\n",
       "      <th>1</th>\n",
       "      <td>1</td>\n",
       "      <td>Dear @CAPS1 @CAPS2, I believe that using compu...</td>\n",
       "      <td>9.0</td>\n",
       "    </tr>\n",
       "    <tr>\n",
       "      <th>2</th>\n",
       "      <td>1</td>\n",
       "      <td>Dear, @CAPS1 @CAPS2 @CAPS3 More and more peopl...</td>\n",
       "      <td>7.0</td>\n",
       "    </tr>\n",
       "    <tr>\n",
       "      <th>3</th>\n",
       "      <td>1</td>\n",
       "      <td>Dear Local Newspaper, @CAPS1 I have found that...</td>\n",
       "      <td>10.0</td>\n",
       "    </tr>\n",
       "    <tr>\n",
       "      <th>4</th>\n",
       "      <td>1</td>\n",
       "      <td>Dear @LOCATION1, I know having computers has a...</td>\n",
       "      <td>8.0</td>\n",
       "    </tr>\n",
       "  </tbody>\n",
       "</table>\n",
       "</div>"
      ],
      "text/plain": [
       "   essay_set                                              essay  domain1_score\n",
       "0          1  Dear local newspaper, I think effects computer...            8.0\n",
       "1          1  Dear @CAPS1 @CAPS2, I believe that using compu...            9.0\n",
       "2          1  Dear, @CAPS1 @CAPS2 @CAPS3 More and more peopl...            7.0\n",
       "3          1  Dear Local Newspaper, @CAPS1 I have found that...           10.0\n",
       "4          1  Dear @LOCATION1, I know having computers has a...            8.0"
      ]
     },
     "execution_count": 525,
     "metadata": {},
     "output_type": "execute_result"
    }
   ],
   "source": [
    "essays.head()"
   ]
  },
  {
   "cell_type": "code",
   "execution_count": 526,
   "metadata": {
    "ExecuteTime": {
     "end_time": "2020-03-05T12:41:15.199879Z",
     "start_time": "2020-03-05T12:41:15.169995Z"
    }
   },
   "outputs": [
    {
     "name": "stdout",
     "output_type": "stream",
     "text": [
      "<class 'pandas.core.frame.DataFrame'>\n",
      "Int64Index: 12977 entries, 0 to 12977\n",
      "Data columns (total 3 columns):\n",
      "essay_set        12977 non-null int64\n",
      "essay            12977 non-null object\n",
      "domain1_score    12977 non-null float64\n",
      "dtypes: float64(1), int64(1), object(1)\n",
      "memory usage: 405.5+ KB\n"
     ]
    }
   ],
   "source": [
    "essays.info()"
   ]
  },
  {
   "cell_type": "code",
   "execution_count": 527,
   "metadata": {
    "ExecuteTime": {
     "end_time": "2020-03-05T12:41:15.546573Z",
     "start_time": "2020-03-05T12:41:15.218054Z"
    }
   },
   "outputs": [
    {
     "data": {
      "text/plain": [
       "<matplotlib.axes._subplots.AxesSubplot at 0x7f9b542268d0>"
      ]
     },
     "execution_count": 527,
     "metadata": {},
     "output_type": "execute_result"
    },
    {
     "data": {
      "image/png": "[encoded data removed]",
      "text/plain": [
       "<Figure size 432x288 with 1 Axes>"
      ]
     },
     "metadata": {
      "needs_background": "light"
     },
     "output_type": "display_data"
    }
   ],
   "source": [
    "sns.countplot(essays['essay_set'])"
   ]
  },
  {
   "cell_type": "code",
   "execution_count": 528,
   "metadata": {
    "ExecuteTime": {
     "end_time": "2020-03-03T12:24:55.286679Z",
     "start_time": "2020-03-03T12:24:52.521410Z"
    }
   },
   "outputs": [
    {
     "data": {
      "image/png": "[encoded data removed]",
      "text/plain": [
       "<Figure size 648x648 with 8 Axes>"
      ]
     },
     "metadata": {
      "needs_background": "light"
     },
     "output_type": "display_data"
    }
   ],
   "source": [
    "topic_number = 0\n",
    "fig, ax = plt.subplots(4,2, figsize=(9,9), sharey=False)\n",
    "for i in range(4):\n",
    "    for j in range(2):\n",
    "        topic_number += 1\n",
    "        essays[essays['essay_set'] == topic_number]\\\n",
    "            .groupby('domain1_score')['essay_set'].agg('count')\\\n",
    "            .plot.bar(ax=ax[i, j], rot=0)\n",
    "        ax[i,j].set_title('Topic %i' % topic_number)\n",
    "ax[3,0].locator_params(nbins=10)\n",
    "ax[3,1].locator_params(nbins=10)\n",
    "plt.suptitle('Histograms of essay scores')\n",
    "plt.tight_layout(rect=[0, 0.03, 1, 0.95])\n",
    "plt.show()"
   ]
  },
  {
   "cell_type": "markdown",
   "metadata": {},
   "source": [
    "# Feature Engineering"
   ]
  },
  {
   "cell_type": "code",
   "execution_count": 529,
   "metadata": {
    "ExecuteTime": {
     "end_time": "2020-03-05T12:41:30.173065Z",
     "start_time": "2020-03-05T12:41:30.163080Z"
    }
   },
   "outputs": [],
   "source": [
    "essays = essays[(essays['essay_set']==3)]\n",
    "essays['essay'] = essays['essay'].apply(lambda x : x.lower())\n",
    "essays.reset_index(drop=True,inplace=True)"
   ]
  },
  {
   "cell_type": "code",
   "execution_count": 530,
   "metadata": {
    "ExecuteTime": {
     "end_time": "2020-03-05T12:41:33.588437Z",
     "start_time": "2020-03-05T12:41:32.817923Z"
    }
   },
   "outputs": [
    {
     "data": {
      "application/vnd.jupyter.widget-view+json": {
       "model_id": "59ebf3adfd03484f920bb4b610f4c028",
       "version_major": 2,
       "version_minor": 0
      },
      "text/plain": [
       "HBox(children=(FloatProgress(value=0.0, max=1726.0), HTML(value='')))"
      ]
     },
     "metadata": {},
     "output_type": "display_data"
    },
    {
     "name": "stdout",
     "output_type": "stream",
     "text": [
      "\n"
     ]
    }
   ],
   "source": [
    "nltk_sentences_tokinized = []\n",
    "for i in tqdm_notebook(essays['essay']):\n",
    "    nltk_sentences_tokinized += [nltk.sent_tokenize(i)]\n",
    "essays['essay_sentences'] = nltk_sentences_tokinized\n",
    "essays['sentences_count'] = essays[\"essay_sentences\"].apply(lambda x:len(x))"
   ]
  },
  {
   "cell_type": "code",
   "execution_count": 531,
   "metadata": {
    "ExecuteTime": {
     "end_time": "2020-03-05T12:41:36.579929Z",
     "start_time": "2020-03-05T12:41:33.591341Z"
    }
   },
   "outputs": [
    {
     "data": {
      "application/vnd.jupyter.widget-view+json": {
       "model_id": "a4c2435e420d449eb6f22588f53d88b0",
       "version_major": 2,
       "version_minor": 0
      },
      "text/plain": [
       "HBox(children=(FloatProgress(value=0.0, max=1726.0), HTML(value='')))"
      ]
     },
     "metadata": {},
     "output_type": "display_data"
    },
    {
     "name": "stdout",
     "output_type": "stream",
     "text": [
      "\n"
     ]
    }
   ],
   "source": [
    "nltk_words_tokinized = []\n",
    "for i in tqdm_notebook(essays['essay']):\n",
    "    nltk_words_tokinized += [[word for word in nltk.word_tokenize(i) if word not in punctuation]]\n",
    "essays['essay_words'] = nltk_words_tokinized\n",
    "essays['words_count'] = essays['essay_words'].apply(lambda x:len(x))"
   ]
  },
  {
   "cell_type": "code",
   "execution_count": 532,
   "metadata": {
    "ExecuteTime": {
     "end_time": "2020-03-05T12:41:39.390902Z",
     "start_time": "2020-03-05T12:41:36.583357Z"
    },
    "code_folding": []
   },
   "outputs": [
    {
     "data": {
      "application/vnd.jupyter.widget-view+json": {
       "model_id": "29eb3b41f0d9461aad6cf1a7985a809b",
       "version_major": 2,
       "version_minor": 0
      },
      "text/plain": [
       "HBox(children=(FloatProgress(value=0.0, max=1726.0), HTML(value='')))"
      ]
     },
     "metadata": {},
     "output_type": "display_data"
    },
    {
     "name": "stdout",
     "output_type": "stream",
     "text": [
      "\n"
     ]
    }
   ],
   "source": [
    "def words_filter(essays):\n",
    "    punctuation_count = []\n",
    "    misspelled_words_count = []\n",
    "    for essay in tqdm_notebook(essays):\n",
    "        pc_temp=0\n",
    "        mw_temp=0\n",
    "        for word in nltk.word_tokenize(essay):\n",
    "            if word.lower() not in punctuation:\n",
    "                if word.lower() not in correct_words_set:\n",
    "                    mw_temp+=1\n",
    "            else:\n",
    "                pc_temp+=1\n",
    "        punctuation_count.append(pc_temp)\n",
    "        misspelled_words_count.append(mw_temp)\n",
    "    return punctuation_count,misspelled_words_count\n",
    "word_features = words_filter(essays['essay'])\n",
    "essays['punctuatioon_count'] = word_features[0]\n",
    "essays['spelling_errors'] = word_features[1]\n",
    "essays['character_count'] = essays['essay'].apply(lambda essay:len(essay))\n",
    "essays['words_per_sent_ratio'] = round(essays['words_count']/essays['sentences_count'])\n",
    "essays['avg_sen_len'] = round(essays['character_count']/essays['sentences_count'])"
   ]
  },
  {
   "cell_type": "code",
   "execution_count": 533,
   "metadata": {
    "ExecuteTime": {
     "end_time": "2020-03-05T12:41:39.560497Z",
     "start_time": "2020-03-05T12:41:39.394994Z"
    }
   },
   "outputs": [
    {
     "data": {
      "application/vnd.jupyter.widget-view+json": {
       "model_id": "eed4f7aeb90b4a99b920ead3806f90c6",
       "version_major": 2,
       "version_minor": 0
      },
      "text/plain": [
       "HBox(children=(FloatProgress(value=0.0, max=1726.0), HTML(value='')))"
      ]
     },
     "metadata": {},
     "output_type": "display_data"
    },
    {
     "name": "stdout",
     "output_type": "stream",
     "text": [
      "\n"
     ]
    }
   ],
   "source": [
    "english_words=[]\n",
    "for listofwords in tqdm_notebook(essays['essay_words']):\n",
    "    temp_english_word=0\n",
    "    for word in listofwords:\n",
    "        if word in words_english:\n",
    "            temp_english_word+=1\n",
    "    english_words.append(temp_english_word)\n",
    "essays['english_words']=english_words"
   ]
  },
  {
   "cell_type": "code",
   "execution_count": 534,
   "metadata": {
    "ExecuteTime": {
     "end_time": "2020-03-05T12:41:39.765423Z",
     "start_time": "2020-03-05T12:41:39.562963Z"
    },
    "code_folding": []
   },
   "outputs": [
    {
     "data": {
      "application/vnd.jupyter.widget-view+json": {
       "model_id": "aa18c3b4dbb74a16b49d44a69472d875",
       "version_major": 2,
       "version_minor": 0
      },
      "text/plain": [
       "HBox(children=(FloatProgress(value=0.0, max=1726.0), HTML(value='')))"
      ]
     },
     "metadata": {},
     "output_type": "display_data"
    },
    {
     "name": "stdout",
     "output_type": "stream",
     "text": [
      "\n"
     ]
    }
   ],
   "source": [
    "nltk_words_tokinized_no_stop_words = []\n",
    "stopwords_count = []\n",
    "for tolinized_list in tqdm_notebook(essays['essay_words']):\n",
    "    temp_stop_words_count = 0\n",
    "    temp_nsw = []\n",
    "    for word in tolinized_list:\n",
    "        if word not in STOP_WORDS:\n",
    "            temp_nsw.append(word)\n",
    "        else:\n",
    "            temp_stop_words_count+=1\n",
    "    nltk_words_tokinized_no_stop_words.append(temp_nsw)\n",
    "    stopwords_count.append(temp_stop_words_count)\n",
    "essays['essay_words'] = nltk_words_tokinized_no_stop_words\n",
    "essays['stopwords_count'] = stopwords_count"
   ]
  },
  {
   "cell_type": "code",
   "execution_count": 535,
   "metadata": {
    "ExecuteTime": {
     "end_time": "2020-03-05T12:41:39.816586Z",
     "start_time": "2020-03-05T12:41:39.803726Z"
    }
   },
   "outputs": [],
   "source": [
    "list_of_all_tags=['LS', 'TO', 'VBN', \"''\", 'WP', 'UH', 'VBG', 'JJ', 'VBZ', '--', 'VBP', 'NN', 'DT', 'PRP', ':', 'WP$', 'NNPS', 'PRP$', 'WDT', '(', ')', '.', ',', '``', '$', 'RB', 'RBR', 'RBS', 'VBD', 'IN', 'FW', 'RP', 'JJR', 'JJS', 'PDT', 'MD', 'VB', 'WRB', 'NNP', 'EX', 'NNS', 'SYM', 'CC', 'CD', 'POS']"
   ]
  },
  {
   "cell_type": "code",
   "execution_count": 536,
   "metadata": {},
   "outputs": [],
   "source": [
    "def words_joiner(essays):\n",
    "    for line_number in tqdm_notebook(range(essays.index[0],essays.index[-1]+1)):\n",
    "        essays['essay_words'][line_number] = ' '.join(essays['essay_words'][line_number])"
   ]
  },
  {
   "cell_type": "code",
   "execution_count": 537,
   "metadata": {
    "ExecuteTime": {
     "end_time": "2020-03-05T12:41:39.881626Z",
     "start_time": "2020-03-05T12:41:39.828656Z"
    }
   },
   "outputs": [
    {
     "data": {
      "application/vnd.jupyter.widget-view+json": {
       "model_id": "a9b6ccc71b364430b05f01d7b22dda61",
       "version_major": 2,
       "version_minor": 0
      },
      "text/plain": [
       "HBox(children=(FloatProgress(value=0.0, max=1726.0), HTML(value='')))"
      ]
     },
     "metadata": {},
     "output_type": "display_data"
    },
    {
     "name": "stdout",
     "output_type": "stream",
     "text": [
      "\n"
     ]
    },
    {
     "data": {
      "application/vnd.jupyter.widget-view+json": {
       "model_id": "37d2600db7a941fca4c96f733874c308",
       "version_major": 2,
       "version_minor": 0
      },
      "text/plain": [
       "HBox(children=(FloatProgress(value=0.0, max=1726.0), HTML(value='')))"
      ]
     },
     "metadata": {},
     "output_type": "display_data"
    },
    {
     "name": "stdout",
     "output_type": "stream",
     "text": [
      "\n"
     ]
    }
   ],
   "source": [
    "for i in list_of_all_tags:\n",
    "    essays[i] = 0\n",
    "for line_number in tqdm_notebook(range(essays.index[0],essays.index[-1]+1)):\n",
    "    temp_pos_list = np.unique(np.array(nltk.pos_tag(essays['essay_words'][line_number]))[:,1], return_counts=True)\n",
    "    pos_list = list(zip(temp_pos_list[0],temp_pos_list[1]))\n",
    "    for i in pos_list:\n",
    "        essays[i[0]][line_number]=i[1]\n",
    "essays.drop(columns=[\"''\", '--', ':', '(', ')', '.', ',', '``', '$','essay','essay_sentences'],inplace=True,axis=1)\n",
    "words_joiner(essays)"
   ]
  },
  {
   "cell_type": "code",
   "execution_count": 538,
   "metadata": {},
   "outputs": [
    {
     "data": {
      "application/vnd.jupyter.widget-view+json": {
       "model_id": "49308922e3ae4f82bcdfaab63d0f40bd",
       "version_major": 2,
       "version_minor": 0
      },
      "text/plain": [
       "HBox(children=(FloatProgress(value=0.0, max=1726.0), HTML(value='')))"
      ]
     },
     "metadata": {},
     "output_type": "display_data"
    },
    {
     "name": "stdout",
     "output_type": "stream",
     "text": [
      "\n"
     ]
    },
    {
     "data": {
      "application/vnd.jupyter.widget-view+json": {
       "model_id": "a1e5b6c799674d3ba02e59292539938c",
       "version_major": 2,
       "version_minor": 0
      },
      "text/plain": [
       "HBox(children=(FloatProgress(value=0.0, max=1726.0), HTML(value='')))"
      ]
     },
     "metadata": {},
     "output_type": "display_data"
    },
    {
     "name": "stdout",
     "output_type": "stream",
     "text": [
      "\n"
     ]
    }
   ],
   "source": [
    "lemmatized_essay_words = []\n",
    "for essay in  tqdm_notebook(essays['essay_words']):\n",
    "    lemmatized = [t.lemma_ for t in lematizator(essay)]\n",
    "    lemmatized_essay_words.append(lemmatized)\n",
    "essays['essay_words'] = lemmatized_essay_words\n",
    "essays['token_count'] = essays['essay_words'].apply(lambda x: len(x))\n",
    "essays['unique_token_count'] = essays['essay_words'].apply(lambda x: len(set(x)))\n",
    "words_joiner(essays)"
   ]
  },
  {
   "cell_type": "code",
   "execution_count": 539,
   "metadata": {},
   "outputs": [
    {
     "data": {
      "text/html": [
       "<div>\n",
       "<style scoped>\n",
       "    .dataframe tbody tr th:only-of-type {\n",
       "        vertical-align: middle;\n",
       "    }\n",
       "\n",
       "    .dataframe tbody tr th {\n",
       "        vertical-align: top;\n",
       "    }\n",
       "\n",
       "    .dataframe thead th {\n",
       "        text-align: right;\n",
       "    }\n",
       "</style>\n",
       "<table border=\"1\" class=\"dataframe\">\n",
       "  <thead>\n",
       "    <tr style=\"text-align: right;\">\n",
       "      <th></th>\n",
       "      <th>essay_set</th>\n",
       "      <th>domain1_score</th>\n",
       "      <th>sentences_count</th>\n",
       "      <th>essay_words</th>\n",
       "      <th>words_count</th>\n",
       "      <th>punctuatioon_count</th>\n",
       "      <th>spelling_errors</th>\n",
       "      <th>character_count</th>\n",
       "      <th>words_per_sent_ratio</th>\n",
       "      <th>avg_sen_len</th>\n",
       "      <th>...</th>\n",
       "      <th>WRB</th>\n",
       "      <th>NNP</th>\n",
       "      <th>EX</th>\n",
       "      <th>NNS</th>\n",
       "      <th>SYM</th>\n",
       "      <th>CC</th>\n",
       "      <th>CD</th>\n",
       "      <th>POS</th>\n",
       "      <th>token_count</th>\n",
       "      <th>unique_token_count</th>\n",
       "    </tr>\n",
       "  </thead>\n",
       "  <tbody>\n",
       "    <tr>\n",
       "      <th>0</th>\n",
       "      <td>3</td>\n",
       "      <td>1.0</td>\n",
       "      <td>3</td>\n",
       "      <td>feature set affect cyclist way feature set aff...</td>\n",
       "      <td>51</td>\n",
       "      <td>3</td>\n",
       "      <td>1</td>\n",
       "      <td>264</td>\n",
       "      <td>17.0</td>\n",
       "      <td>88.0</td>\n",
       "      <td>...</td>\n",
       "      <td>0</td>\n",
       "      <td>0</td>\n",
       "      <td>0</td>\n",
       "      <td>3</td>\n",
       "      <td>0</td>\n",
       "      <td>0</td>\n",
       "      <td>0</td>\n",
       "      <td>0</td>\n",
       "      <td>18</td>\n",
       "      <td>13</td>\n",
       "    </tr>\n",
       "    <tr>\n",
       "      <th>1</th>\n",
       "      <td>3</td>\n",
       "      <td>2.0</td>\n",
       "      <td>12</td>\n",
       "      <td>feature set affect cyclist negative way desert...</td>\n",
       "      <td>191</td>\n",
       "      <td>35</td>\n",
       "      <td>28</td>\n",
       "      <td>1016</td>\n",
       "      <td>16.0</td>\n",
       "      <td>85.0</td>\n",
       "      <td>...</td>\n",
       "      <td>0</td>\n",
       "      <td>3</td>\n",
       "      <td>0</td>\n",
       "      <td>7</td>\n",
       "      <td>0</td>\n",
       "      <td>0</td>\n",
       "      <td>0</td>\n",
       "      <td>0</td>\n",
       "      <td>87</td>\n",
       "      <td>61</td>\n",
       "    </tr>\n",
       "    <tr>\n",
       "      <th>2</th>\n",
       "      <td>3</td>\n",
       "      <td>1.0</td>\n",
       "      <td>8</td>\n",
       "      <td>travel unfamiliar place lose ask local directi...</td>\n",
       "      <td>100</td>\n",
       "      <td>10</td>\n",
       "      <td>5</td>\n",
       "      <td>512</td>\n",
       "      <td>12.0</td>\n",
       "      <td>64.0</td>\n",
       "      <td>...</td>\n",
       "      <td>0</td>\n",
       "      <td>2</td>\n",
       "      <td>0</td>\n",
       "      <td>12</td>\n",
       "      <td>0</td>\n",
       "      <td>0</td>\n",
       "      <td>0</td>\n",
       "      <td>0</td>\n",
       "      <td>49</td>\n",
       "      <td>36</td>\n",
       "    </tr>\n",
       "    <tr>\n",
       "      <th>3</th>\n",
       "      <td>3</td>\n",
       "      <td>1.0</td>\n",
       "      <td>3</td>\n",
       "      <td>believe feature cyclist affect impatient trust...</td>\n",
       "      <td>88</td>\n",
       "      <td>5</td>\n",
       "      <td>12</td>\n",
       "      <td>433</td>\n",
       "      <td>29.0</td>\n",
       "      <td>144.0</td>\n",
       "      <td>...</td>\n",
       "      <td>0</td>\n",
       "      <td>1</td>\n",
       "      <td>0</td>\n",
       "      <td>5</td>\n",
       "      <td>0</td>\n",
       "      <td>0</td>\n",
       "      <td>0</td>\n",
       "      <td>0</td>\n",
       "      <td>41</td>\n",
       "      <td>39</td>\n",
       "    </tr>\n",
       "    <tr>\n",
       "      <th>4</th>\n",
       "      <td>3</td>\n",
       "      <td>2.0</td>\n",
       "      <td>3</td>\n",
       "      <td>set effect cyclist set diffrent story sense se...</td>\n",
       "      <td>143</td>\n",
       "      <td>6</td>\n",
       "      <td>21</td>\n",
       "      <td>701</td>\n",
       "      <td>48.0</td>\n",
       "      <td>234.0</td>\n",
       "      <td>...</td>\n",
       "      <td>0</td>\n",
       "      <td>3</td>\n",
       "      <td>0</td>\n",
       "      <td>7</td>\n",
       "      <td>0</td>\n",
       "      <td>0</td>\n",
       "      <td>0</td>\n",
       "      <td>0</td>\n",
       "      <td>65</td>\n",
       "      <td>42</td>\n",
       "    </tr>\n",
       "    <tr>\n",
       "      <th>...</th>\n",
       "      <td>...</td>\n",
       "      <td>...</td>\n",
       "      <td>...</td>\n",
       "      <td>...</td>\n",
       "      <td>...</td>\n",
       "      <td>...</td>\n",
       "      <td>...</td>\n",
       "      <td>...</td>\n",
       "      <td>...</td>\n",
       "      <td>...</td>\n",
       "      <td>...</td>\n",
       "      <td>...</td>\n",
       "      <td>...</td>\n",
       "      <td>...</td>\n",
       "      <td>...</td>\n",
       "      <td>...</td>\n",
       "      <td>...</td>\n",
       "      <td>...</td>\n",
       "      <td>...</td>\n",
       "      <td>...</td>\n",
       "      <td>...</td>\n",
       "    </tr>\n",
       "    <tr>\n",
       "      <th>1721</th>\n",
       "      <td>3</td>\n",
       "      <td>2.0</td>\n",
       "      <td>6</td>\n",
       "      <td>story set affect cyclist way example condition...</td>\n",
       "      <td>68</td>\n",
       "      <td>12</td>\n",
       "      <td>2</td>\n",
       "      <td>354</td>\n",
       "      <td>11.0</td>\n",
       "      <td>59.0</td>\n",
       "      <td>...</td>\n",
       "      <td>0</td>\n",
       "      <td>0</td>\n",
       "      <td>0</td>\n",
       "      <td>3</td>\n",
       "      <td>0</td>\n",
       "      <td>0</td>\n",
       "      <td>0</td>\n",
       "      <td>0</td>\n",
       "      <td>36</td>\n",
       "      <td>31</td>\n",
       "    </tr>\n",
       "    <tr>\n",
       "      <th>1722</th>\n",
       "      <td>3</td>\n",
       "      <td>1.0</td>\n",
       "      <td>3</td>\n",
       "      <td>feature set affect cyclist like goup hill long...</td>\n",
       "      <td>55</td>\n",
       "      <td>6</td>\n",
       "      <td>4</td>\n",
       "      <td>294</td>\n",
       "      <td>18.0</td>\n",
       "      <td>98.0</td>\n",
       "      <td>...</td>\n",
       "      <td>0</td>\n",
       "      <td>1</td>\n",
       "      <td>0</td>\n",
       "      <td>4</td>\n",
       "      <td>0</td>\n",
       "      <td>0</td>\n",
       "      <td>0</td>\n",
       "      <td>0</td>\n",
       "      <td>30</td>\n",
       "      <td>28</td>\n",
       "    </tr>\n",
       "    <tr>\n",
       "      <th>1723</th>\n",
       "      <td>3</td>\n",
       "      <td>2.0</td>\n",
       "      <td>5</td>\n",
       "      <td>set greatly affect cyclist try yosemite nation...</td>\n",
       "      <td>117</td>\n",
       "      <td>12</td>\n",
       "      <td>15</td>\n",
       "      <td>599</td>\n",
       "      <td>23.0</td>\n",
       "      <td>120.0</td>\n",
       "      <td>...</td>\n",
       "      <td>0</td>\n",
       "      <td>3</td>\n",
       "      <td>0</td>\n",
       "      <td>3</td>\n",
       "      <td>0</td>\n",
       "      <td>0</td>\n",
       "      <td>0</td>\n",
       "      <td>0</td>\n",
       "      <td>53</td>\n",
       "      <td>43</td>\n",
       "    </tr>\n",
       "    <tr>\n",
       "      <th>1724</th>\n",
       "      <td>3</td>\n",
       "      <td>2.0</td>\n",
       "      <td>7</td>\n",
       "      <td>feature set affect cyclist author say californ...</td>\n",
       "      <td>156</td>\n",
       "      <td>20</td>\n",
       "      <td>11</td>\n",
       "      <td>828</td>\n",
       "      <td>22.0</td>\n",
       "      <td>118.0</td>\n",
       "      <td>...</td>\n",
       "      <td>0</td>\n",
       "      <td>2</td>\n",
       "      <td>0</td>\n",
       "      <td>11</td>\n",
       "      <td>0</td>\n",
       "      <td>0</td>\n",
       "      <td>0</td>\n",
       "      <td>0</td>\n",
       "      <td>69</td>\n",
       "      <td>49</td>\n",
       "    </tr>\n",
       "    <tr>\n",
       "      <th>1725</th>\n",
       "      <td>3</td>\n",
       "      <td>3.0</td>\n",
       "      <td>5</td>\n",
       "      <td>feature set \" rough road ahead exceed post spe...</td>\n",
       "      <td>121</td>\n",
       "      <td>13</td>\n",
       "      <td>3</td>\n",
       "      <td>642</td>\n",
       "      <td>24.0</td>\n",
       "      <td>128.0</td>\n",
       "      <td>...</td>\n",
       "      <td>0</td>\n",
       "      <td>1</td>\n",
       "      <td>0</td>\n",
       "      <td>4</td>\n",
       "      <td>0</td>\n",
       "      <td>0</td>\n",
       "      <td>0</td>\n",
       "      <td>0</td>\n",
       "      <td>56</td>\n",
       "      <td>49</td>\n",
       "    </tr>\n",
       "  </tbody>\n",
       "</table>\n",
       "<p>1726 rows × 50 columns</p>\n",
       "</div>"
      ],
      "text/plain": [
       "      essay_set  domain1_score  sentences_count  \\\n",
       "0             3            1.0                3   \n",
       "1             3            2.0               12   \n",
       "2             3            1.0                8   \n",
       "3             3            1.0                3   \n",
       "4             3            2.0                3   \n",
       "...         ...            ...              ...   \n",
       "1721          3            2.0                6   \n",
       "1722          3            1.0                3   \n",
       "1723          3            2.0                5   \n",
       "1724          3            2.0                7   \n",
       "1725          3            3.0                5   \n",
       "\n",
       "                                            essay_words  words_count  \\\n",
       "0     feature set affect cyclist way feature set aff...           51   \n",
       "1     feature set affect cyclist negative way desert...          191   \n",
       "2     travel unfamiliar place lose ask local directi...          100   \n",
       "3     believe feature cyclist affect impatient trust...           88   \n",
       "4     set effect cyclist set diffrent story sense se...          143   \n",
       "...                                                 ...          ...   \n",
       "1721  story set affect cyclist way example condition...           68   \n",
       "1722  feature set affect cyclist like goup hill long...           55   \n",
       "1723  set greatly affect cyclist try yosemite nation...          117   \n",
       "1724  feature set affect cyclist author say californ...          156   \n",
       "1725  feature set \" rough road ahead exceed post spe...          121   \n",
       "\n",
       "      punctuatioon_count  spelling_errors  character_count  \\\n",
       "0                      3                1              264   \n",
       "1                     35               28             1016   \n",
       "2                     10                5              512   \n",
       "3                      5               12              433   \n",
       "4                      6               21              701   \n",
       "...                  ...              ...              ...   \n",
       "1721                  12                2              354   \n",
       "1722                   6                4              294   \n",
       "1723                  12               15              599   \n",
       "1724                  20               11              828   \n",
       "1725                  13                3              642   \n",
       "\n",
       "      words_per_sent_ratio  avg_sen_len  ...  WRB  NNP  EX  NNS  SYM  CC  CD  \\\n",
       "0                     17.0         88.0  ...    0    0   0    3    0   0   0   \n",
       "1                     16.0         85.0  ...    0    3   0    7    0   0   0   \n",
       "2                     12.0         64.0  ...    0    2   0   12    0   0   0   \n",
       "3                     29.0        144.0  ...    0    1   0    5    0   0   0   \n",
       "4                     48.0        234.0  ...    0    3   0    7    0   0   0   \n",
       "...                    ...          ...  ...  ...  ...  ..  ...  ...  ..  ..   \n",
       "1721                  11.0         59.0  ...    0    0   0    3    0   0   0   \n",
       "1722                  18.0         98.0  ...    0    1   0    4    0   0   0   \n",
       "1723                  23.0        120.0  ...    0    3   0    3    0   0   0   \n",
       "1724                  22.0        118.0  ...    0    2   0   11    0   0   0   \n",
       "1725                  24.0        128.0  ...    0    1   0    4    0   0   0   \n",
       "\n",
       "      POS  token_count  unique_token_count  \n",
       "0       0           18                  13  \n",
       "1       0           87                  61  \n",
       "2       0           49                  36  \n",
       "3       0           41                  39  \n",
       "4       0           65                  42  \n",
       "...   ...          ...                 ...  \n",
       "1721    0           36                  31  \n",
       "1722    0           30                  28  \n",
       "1723    0           53                  43  \n",
       "1724    0           69                  49  \n",
       "1725    0           56                  49  \n",
       "\n",
       "[1726 rows x 50 columns]"
      ]
     },
     "execution_count": 539,
     "metadata": {},
     "output_type": "execute_result"
    }
   ],
   "source": [
    "essays"
   ]
  },
  {
   "cell_type": "markdown",
   "metadata": {},
   "source": [
    "# Modeling"
   ]
  },
  {
   "cell_type": "code",
   "execution_count": 540,
   "metadata": {
    "ExecuteTime": {
     "end_time": "2020-03-05T12:41:52.126107Z",
     "start_time": "2020-03-05T12:41:50.525416Z"
    }
   },
   "outputs": [],
   "source": [
    "tv = TfidfVectorizer(ngram_range=(1, 5), max_features=50000)\n",
    "essay_words_vectorized = tv.fit_transform(essays['essay_words'])\n",
    "y_train = essays['domain1_score']"
   ]
  },
  {
   "cell_type": "code",
   "execution_count": 541,
   "metadata": {},
   "outputs": [],
   "source": [
    "# text_dim = 300\n",
    "# print(\"Training Word2Vec model...\")\n",
    "# wordvec_model = Word2Vec(essays['essay_words'].values, size=text_dim, window=5, min_count=3, workers=4, sg=1)\n",
    "# print(\"Word2Vec model created.\")\n",
    "# print(\"%d unique words represented by %d dimensional vectors\" % (len(wordvec_model.wv.vocab), text_dim))\n",
    "# wordvec_model.save('wordvec_model')\n",
    "# print(\"Word2Vec model saved.\")"
   ]
  },
  {
   "cell_type": "code",
   "execution_count": 542,
   "metadata": {
    "ExecuteTime": {
     "end_time": "2020-03-05T12:41:52.133753Z",
     "start_time": "2020-03-05T12:41:52.128125Z"
    }
   },
   "outputs": [],
   "source": [
    "reg = LinearRegression()\n",
    "clf = LogisticRegression(C=2.089999999999999,n_jobs=-1,random_state = RANDOM_STATE,max_iter=5000)\n",
    "svmka = LinearSVC(random_state = RANDOM_STATE)\n",
    "tree = RandomForestClassifier(random_state = RANDOM_STATE)\n",
    "catclf=CatBoostClassifier(n_estimators=500,random_state = RANDOM_STATE)\n",
    "catregr = CatBoostRegressor(n_estimators=1000,random_state = RANDOM_STATE)\n",
    "NBC=MultinomialNB()"
   ]
  },
  {
   "cell_type": "code",
   "execution_count": 543,
   "metadata": {
    "ExecuteTime": {
     "end_time": "2020-03-05T13:01:10.770939Z",
     "start_time": "2020-03-05T13:01:10.745516Z"
    }
   },
   "outputs": [],
   "source": [
    "#sel_varience = VarianceThreshold(threshold=(.9 * (1 - .9)))\n",
    "sel_k_best = SelectKBest(chi2, k=15)\n",
    "#selected_sel_varience = sel_varience.fit_transform(essays.drop(['domain1_score','essay_words','essay_set'],axis=1))\n",
    "selected_sel_k_best = sel_k_best.fit_transform(essays.drop(['domain1_score','essay_words','essay_set'],axis=1),y_train)"
   ]
  },
  {
   "cell_type": "code",
   "execution_count": 544,
   "metadata": {
    "ExecuteTime": {
     "end_time": "2020-03-05T13:01:12.046766Z",
     "start_time": "2020-03-05T13:01:12.042795Z"
    }
   },
   "outputs": [],
   "source": [
    "scaleer = StandardScaler(copy=True, with_mean=True, with_std=True)"
   ]
  },
  {
   "cell_type": "code",
   "execution_count": 545,
   "metadata": {
    "ExecuteTime": {
     "end_time": "2020-03-05T13:01:12.376926Z",
     "start_time": "2020-03-05T13:01:12.361635Z"
    }
   },
   "outputs": [],
   "source": [
    "train = scaleer.fit_transform(selected_sel_k_best)"
   ]
  },
  {
   "cell_type": "code",
   "execution_count": 546,
   "metadata": {
    "ExecuteTime": {
     "end_time": "2020-03-05T13:01:12.800036Z",
     "start_time": "2020-03-05T13:01:12.777775Z"
    }
   },
   "outputs": [],
   "source": [
    "X = hstack([essay_words_vectorized,train])"
   ]
  },
  {
   "cell_type": "code",
   "execution_count": 547,
   "metadata": {
    "ExecuteTime": {
     "end_time": "2020-03-05T13:01:13.159473Z",
     "start_time": "2020-03-05T13:01:13.148521Z"
    }
   },
   "outputs": [
    {
     "name": "stdout",
     "output_type": "stream",
     "text": [
      "<bound method spmatrix.get_shape of <1726x50015 sparse matrix of type '<class 'numpy.float64'>'\n",
      "\twith 205454 stored elements in COOrdinate format>>\n"
     ]
    }
   ],
   "source": [
    "print(X.get_shape)"
   ]
  },
  {
   "cell_type": "code",
   "execution_count": 548,
   "metadata": {
    "ExecuteTime": {
     "end_time": "2020-03-05T13:01:13.574577Z",
     "start_time": "2020-03-05T13:01:13.565757Z"
    }
   },
   "outputs": [],
   "source": [
    "pca = TruncatedSVD(n_components=50,random_state = RANDOM_STATE)"
   ]
  },
  {
   "cell_type": "code",
   "execution_count": 549,
   "metadata": {
    "ExecuteTime": {
     "end_time": "2020-03-05T13:01:16.989069Z",
     "start_time": "2020-03-05T13:01:14.581016Z"
    }
   },
   "outputs": [],
   "source": [
    "X_reduced = pca.fit_transform(X)"
   ]
  },
  {
   "cell_type": "code",
   "execution_count": 550,
   "metadata": {
    "ExecuteTime": {
     "end_time": "2020-03-05T13:01:17.000378Z",
     "start_time": "2020-03-05T13:01:16.993104Z"
    }
   },
   "outputs": [
    {
     "name": "stdout",
     "output_type": "stream",
     "text": [
      "0.9453929118416055\n"
     ]
    }
   ],
   "source": [
    "print(pca.explained_variance_ratio_.sum())"
   ]
  },
  {
   "cell_type": "code",
   "execution_count": null,
   "metadata": {
    "ExecuteTime": {
     "end_time": "2020-03-05T13:01:22.991653Z",
     "start_time": "2020-03-05T13:01:17.006927Z"
    }
   },
   "outputs": [
    {
     "name": "stderr",
     "output_type": "stream",
     "text": [
      "[Parallel(n_jobs=-1)]: Using backend LokyBackend with 4 concurrent workers.\n"
     ]
    }
   ],
   "source": [
    "kappa_scorer = make_scorer(kappa)\n",
    "splits = KFold(n_splits=5,random_state = RANDOM_STATE)\n",
    "model = clf\n",
    "cv_scores_kappa_scorer = cross_val_score(model, X_reduced, essays['domain1_score'], cv=splits, scoring=kappa_scorer, n_jobs=-1, verbose=True)\n",
    "cv_scores_accuracy = cross_val_score(model, X_reduced, essays['domain1_score'], cv=splits, scoring='accuracy', n_jobs=-1, verbose=True)"
   ]
  },
  {
   "cell_type": "code",
   "execution_count": null,
   "metadata": {
    "ExecuteTime": {
     "end_time": "2020-03-05T13:01:23.015221Z",
     "start_time": "2020-03-05T13:01:22.999763Z"
    }
   },
   "outputs": [],
   "source": [
    "print(cv_scores_accuracy.mean(),cv_scores_kappa_scorer.mean())"
   ]
  },
  {
   "cell_type": "code",
   "execution_count": null,
   "metadata": {
    "ExecuteTime": {
     "end_time": "2020-03-05T13:01:23.031618Z",
     "start_time": "2020-03-05T13:01:23.023025Z"
    }
   },
   "outputs": [],
   "source": [
    "#Best score\n",
    "# 0.6854134204574013, 0.5246124981953143"
   ]
  },
  {
   "cell_type": "code",
   "execution_count": null,
   "metadata": {},
   "outputs": [],
   "source": [
    "print(cv_scores_accuracy)"
   ]
  },
  {
   "cell_type": "code",
   "execution_count": null,
   "metadata": {},
   "outputs": [],
   "source": [
    "from sklearn.ensemble import ExtraTreesClassifier, RandomForestRegressor\n",
    "X = essays[essays.drop(['domain1_score','essay_words','essay_set'],axis=1).columns[(sel_k_best.get_support())]]\n",
    "y = y_train.astype(np.float64)\n",
    "\n",
    "\n",
    "forest = ExtraTreesClassifier(n_estimators=250,\n",
    "                              random_state=26)\n",
    "\n",
    "forest.fit(X, y)\n",
    "\n",
    "std = np.std([tree.feature_importances_ for tree in forest.estimators_], axis=0)\n",
    "\n",
    "# plot feature importances\n",
    "\n",
    "features = pd.DataFrame({'feature_name': X.columns, 'importance': forest.feature_importances_, 'std': std})\n",
    "features.sort_values('importance')\\\n",
    "        .plot.barh(x='feature_name', y='importance', xerr='std', legend=False)\n",
    "plt.title('Gini importances of forest features')\n",
    "plt.xlabel('Gini-importance')\n",
    "plt.tight_layout()\n",
    "plt.show()"
   ]
  }
 ],
 "metadata": {
  "kernelspec": {
   "display_name": "Python 3",
   "language": "python",
   "name": "python3"
  },
  "language_info": {
   "codemirror_mode": {
    "name": "ipython",
    "version": 3
   },
   "file_extension": ".py",
   "mimetype": "text/x-python",
   "name": "python",
   "nbconvert_exporter": "python",
   "pygments_lexer": "ipython3",
   "version": "3.6.5"
  },
  "toc-autonumbering": true,
  "toc-showcode": false,
  "toc-showmarkdowntxt": false,
  "toc-showtags": false
 },
 "nbformat": 4,
 "nbformat_minor": 4
}
