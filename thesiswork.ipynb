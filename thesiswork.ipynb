{
 "cells": [
  {
   "cell_type": "markdown",
   "metadata": {},
   "source": [
    "# First steps"
   ]
  },
  {
   "cell_type": "code",
   "execution_count": 71,
   "metadata": {
    "ExecuteTime": {
     "end_time": "2020-03-05T12:58:35.393570Z",
     "start_time": "2020-03-05T12:58:32.023159Z"
    },
    "code_folding": []
   },
   "outputs": [],
   "source": [
    "#importing\n",
    "import warnings\n",
    "warnings.filterwarnings('ignore')\n",
    "import pickle\n",
    "import numpy as np\n",
    "import pandas as pd\n",
    "import matplotlib.pyplot as plt\n",
    "import seaborn as sns\n",
    "import spacy\n",
    "import en_core_web_sm\n",
    "from spacy.lang.en.stop_words import STOP_WORDS\n",
    "from string import punctuation\n",
    "import nltk\n",
    "from catboost import CatBoostClassifier, CatBoostRegressor\n",
    "from sklearn.naive_bayes import MultinomialNB\n",
    "from sklearn.decomposition import TruncatedSVD\n",
    "from sklearn.feature_selection import VarianceThreshold, SelectKBest, f_classif, f_regression\n",
    "from sklearn.feature_extraction.text import TfidfVectorizer, CountVectorizer, TfidfTransformer\n",
    "from sklearn.model_selection import cross_val_score, GridSearchCV, cross_val_predict, KFold, StratifiedKFold, train_test_split\n",
    "from sklearn.metrics import classification_report, roc_auc_score, cohen_kappa_score, make_scorer, accuracy_score\n",
    "from sklearn.preprocessing import StandardScaler,scale\n",
    "from sklearn.linear_model import LogisticRegression, LinearRegression, ElasticNet\n",
    "from sklearn.ensemble import RandomForestClassifier,RandomForestRegressor, ExtraTreesClassifier\n",
    "from sklearn.feature_selection import chi2\n",
    "from sklearn.svm import SVC, LinearSVC\n",
    "from tqdm import tqdm_notebook\n",
    "from pathlib import Path\n",
    "words_english = set(nltk.corpus.words.words())\n",
    "correct_words_set = set(nltk.corpus.brown.words())\n",
    "lematizator = en_core_web_sm.load()\n",
    "plt.style.use('seaborn-colorblind')\n",
    "%matplotlib inline"
   ]
  },
  {
   "cell_type": "code",
   "execution_count": 72,
   "metadata": {
    "ExecuteTime": {
     "end_time": "2020-03-05T12:41:15.069801Z",
     "start_time": "2020-03-05T12:41:15.066118Z"
    }
   },
   "outputs": [],
   "source": [
    "# downloading the data\n",
    "essays = pd.read_excel('training_set_rel3.xlsx')\n",
    "essays = essays[['essay_set','essay', 'domain1_score']].dropna()"
   ]
  },
  {
   "cell_type": "code",
   "execution_count": 73,
   "metadata": {
    "ExecuteTime": {
     "end_time": "2020-03-05T12:41:15.166496Z",
     "start_time": "2020-03-05T12:41:15.124158Z"
    }
   },
   "outputs": [
    {
     "data": {
      "text/html": [
       "<div>\n",
       "<style scoped>\n",
       "    .dataframe tbody tr th:only-of-type {\n",
       "        vertical-align: middle;\n",
       "    }\n",
       "\n",
       "    .dataframe tbody tr th {\n",
       "        vertical-align: top;\n",
       "    }\n",
       "\n",
       "    .dataframe thead th {\n",
       "        text-align: right;\n",
       "    }\n",
       "</style>\n",
       "<table border=\"1\" class=\"dataframe\">\n",
       "  <thead>\n",
       "    <tr style=\"text-align: right;\">\n",
       "      <th></th>\n",
       "      <th>essay_set</th>\n",
       "      <th>essay</th>\n",
       "      <th>domain1_score</th>\n",
       "    </tr>\n",
       "  </thead>\n",
       "  <tbody>\n",
       "    <tr>\n",
       "      <th>0</th>\n",
       "      <td>1</td>\n",
       "      <td>Dear local newspaper, I think effects computer...</td>\n",
       "      <td>8.0</td>\n",
       "    </tr>\n",
       "    <tr>\n",
       "      <th>1</th>\n",
       "      <td>1</td>\n",
       "      <td>Dear @CAPS1 @CAPS2, I believe that using compu...</td>\n",
       "      <td>9.0</td>\n",
       "    </tr>\n",
       "    <tr>\n",
       "      <th>2</th>\n",
       "      <td>1</td>\n",
       "      <td>Dear, @CAPS1 @CAPS2 @CAPS3 More and more peopl...</td>\n",
       "      <td>7.0</td>\n",
       "    </tr>\n",
       "    <tr>\n",
       "      <th>3</th>\n",
       "      <td>1</td>\n",
       "      <td>Dear Local Newspaper, @CAPS1 I have found that...</td>\n",
       "      <td>10.0</td>\n",
       "    </tr>\n",
       "    <tr>\n",
       "      <th>4</th>\n",
       "      <td>1</td>\n",
       "      <td>Dear @LOCATION1, I know having computers has a...</td>\n",
       "      <td>8.0</td>\n",
       "    </tr>\n",
       "  </tbody>\n",
       "</table>\n",
       "</div>"
      ],
      "text/plain": [
       "   essay_set                                              essay  domain1_score\n",
       "0          1  Dear local newspaper, I think effects computer...            8.0\n",
       "1          1  Dear @CAPS1 @CAPS2, I believe that using compu...            9.0\n",
       "2          1  Dear, @CAPS1 @CAPS2 @CAPS3 More and more peopl...            7.0\n",
       "3          1  Dear Local Newspaper, @CAPS1 I have found that...           10.0\n",
       "4          1  Dear @LOCATION1, I know having computers has a...            8.0"
      ]
     },
     "execution_count": 73,
     "metadata": {},
     "output_type": "execute_result"
    }
   ],
   "source": [
    "essays.head()"
   ]
  },
  {
   "cell_type": "code",
   "execution_count": 74,
   "metadata": {
    "ExecuteTime": {
     "end_time": "2020-03-05T12:41:15.199879Z",
     "start_time": "2020-03-05T12:41:15.169995Z"
    },
    "jupyter": {
     "source_hidden": true
    }
   },
   "outputs": [
    {
     "name": "stdout",
     "output_type": "stream",
     "text": [
      "<class 'pandas.core.frame.DataFrame'>\n",
      "Int64Index: 12977 entries, 0 to 12977\n",
      "Data columns (total 3 columns):\n",
      " #   Column         Non-Null Count  Dtype  \n",
      "---  ------         --------------  -----  \n",
      " 0   essay_set      12977 non-null  int64  \n",
      " 1   essay          12977 non-null  object \n",
      " 2   domain1_score  12977 non-null  float64\n",
      "dtypes: float64(1), int64(1), object(1)\n",
      "memory usage: 405.5+ KB\n",
      "None\n"
     ]
    }
   ],
   "source": [
    "print(essays.info())"
   ]
  },
  {
   "cell_type": "code",
   "execution_count": 75,
   "metadata": {
    "ExecuteTime": {
     "end_time": "2020-03-05T12:41:15.546573Z",
     "start_time": "2020-03-05T12:41:15.218054Z"
    }
   },
   "outputs": [
    {
     "data": {
      "text/plain": [
       "<matplotlib.axes._subplots.AxesSubplot at 0x7f6ce5031b50>"
      ]
     },
     "execution_count": 75,
     "metadata": {},
     "output_type": "execute_result"
    },
    {
     "data": {
      "image/png": "[encoded data removed]",
      "text/plain": [
       "<Figure size 432x288 with 1 Axes>"
      ]
     },
     "metadata": {
      "needs_background": "light"
     },
     "output_type": "display_data"
    }
   ],
   "source": [
    "#Topics distribution\n",
    "sns.countplot(essays['essay_set'])"
   ]
  },
  {
   "cell_type": "code",
   "execution_count": 76,
   "metadata": {
    "ExecuteTime": {
     "end_time": "2020-03-03T12:24:55.286679Z",
     "start_time": "2020-03-03T12:24:52.521410Z"
    }
   },
   "outputs": [
    {
     "data": {
      "image/png": "[encoded data removed]",
      "text/plain": [
       "<Figure size 648x648 with 8 Axes>"
      ]
     },
     "metadata": {
      "needs_background": "light"
     },
     "output_type": "display_data"
    }
   ],
   "source": [
    "#Scors distribution in each topic\n",
    "topic_number = 0\n",
    "fig, ax = plt.subplots(4,2, figsize=(9,9), sharey=False)\n",
    "for i in range(4):\n",
    "    for j in range(2):\n",
    "        topic_number += 1\n",
    "        essays[essays['essay_set'] == topic_number]\\\n",
    "            .groupby('domain1_score')['essay_set'].agg('count')\\\n",
    "            .plot.bar(ax=ax[i, j], rot=0)\n",
    "        ax[i,j].set_title('Topic %i' % topic_number)\n",
    "ax[3,0].locator_params(nbins=10)\n",
    "ax[3,1].locator_params(nbins=10)\n",
    "plt.suptitle('Histograms of essay scores')\n",
    "plt.tight_layout(rect=[0, 0.03, 1, 0.95])\n",
    "plt.show()"
   ]
  },
  {
   "cell_type": "markdown",
   "metadata": {},
   "source": [
    "# Feature Engineering"
   ]
  },
  {
   "cell_type": "code",
   "execution_count": 77,
   "metadata": {
    "ExecuteTime": {
     "end_time": "2020-03-05T12:41:39.816586Z",
     "start_time": "2020-03-05T12:41:39.803726Z"
    }
   },
   "outputs": [],
   "source": [
    "#List of all parts of speech\n",
    "list_of_all_tags=['LS', 'TO', 'VBN', \"''\", 'WP', 'UH', 'VBG', 'JJ', 'VBZ', '--', 'VBP', 'NN', 'DT', 'PRP', ':', 'WP$', 'NNPS', 'PRP$', 'WDT', '(', ')', '.', ',', '``', '$', 'RB', 'RBR', 'RBS', 'VBD', 'IN', 'FW', 'RP', 'JJR', 'JJS', 'PDT', 'MD', 'VB', 'WRB', 'NNP', 'EX', 'NNS', 'SYM', 'CC', 'CD', 'POS']"
   ]
  },
  {
   "cell_type": "code",
   "execution_count": 78,
   "metadata": {
    "ExecuteTime": {
     "end_time": "2020-03-05T12:41:30.173065Z",
     "start_time": "2020-03-05T12:41:30.163080Z"
    }
   },
   "outputs": [],
   "source": [
    "# Choosing essay topic, reseting indexes and lowering all words\n",
    "essays = essays[(essays['essay_set']==1)]\n",
    "essays['essay'] = essays['essay'].apply(lambda x : x.lower())\n",
    "essays.reset_index(drop=True,inplace=True)"
   ]
  },
  {
   "cell_type": "code",
   "execution_count": 79,
   "metadata": {
    "ExecuteTime": {
     "end_time": "2020-03-05T12:41:33.588437Z",
     "start_time": "2020-03-05T12:41:32.817923Z"
    }
   },
   "outputs": [
    {
     "data": {
      "application/vnd.jupyter.widget-view+json": {
       "model_id": "d6106579fb1f4ccaa4d0431059ddf500",
       "version_major": 2,
       "version_minor": 0
      },
      "text/plain": [
       "HBox(children=(FloatProgress(value=0.0, max=1783.0), HTML(value='')))"
      ]
     },
     "metadata": {},
     "output_type": "display_data"
    },
    {
     "name": "stdout",
     "output_type": "stream",
     "text": [
      "\n"
     ]
    }
   ],
   "source": [
    "#Splitting essays by sentences and counting them\n",
    "nltk_sentences_tokinized = []\n",
    "for i in tqdm_notebook(essays['essay']):\n",
    "    nltk_sentences_tokinized += [nltk.sent_tokenize(i)]\n",
    "essays['essay_sentences'] = nltk_sentences_tokinized\n",
    "essays['sentences_count'] = essays[\"essay_sentences\"].apply(lambda x:len(x))"
   ]
  },
  {
   "cell_type": "code",
   "execution_count": 80,
   "metadata": {
    "ExecuteTime": {
     "end_time": "2020-03-05T12:41:36.579929Z",
     "start_time": "2020-03-05T12:41:33.591341Z"
    }
   },
   "outputs": [
    {
     "data": {
      "application/vnd.jupyter.widget-view+json": {
       "model_id": "0e4ffc7ba5914373b0c7a2c08c64f1f8",
       "version_major": 2,
       "version_minor": 0
      },
      "text/plain": [
       "HBox(children=(FloatProgress(value=0.0, max=1783.0), HTML(value='')))"
      ]
     },
     "metadata": {},
     "output_type": "display_data"
    },
    {
     "name": "stdout",
     "output_type": "stream",
     "text": [
      "\n"
     ]
    }
   ],
   "source": [
    "#Removing punctuation and counting words\n",
    "nltk_words_tokinized = []\n",
    "for i in tqdm_notebook(essays['essay']):\n",
    "    nltk_words_tokinized += [[word for word in nltk.word_tokenize(i) if word not in punctuation]]\n",
    "essays['essay_words'] = nltk_words_tokinized\n",
    "essays['words_count'] = essays['essay_words'].apply(lambda x:len(x))\n",
    "essays['unique_words_count'] = essays['essay_words'].apply(lambda x:len(set(x)))"
   ]
  },
  {
   "cell_type": "code",
   "execution_count": 81,
   "metadata": {
    "ExecuteTime": {
     "end_time": "2020-03-05T12:41:39.390902Z",
     "start_time": "2020-03-05T12:41:36.583357Z"
    },
    "code_folding": []
   },
   "outputs": [
    {
     "data": {
      "application/vnd.jupyter.widget-view+json": {
       "model_id": "6225c61f84a84fc4b13736dc21a9522b",
       "version_major": 2,
       "version_minor": 0
      },
      "text/plain": [
       "HBox(children=(FloatProgress(value=0.0, max=1783.0), HTML(value='')))"
      ]
     },
     "metadata": {},
     "output_type": "display_data"
    },
    {
     "name": "stdout",
     "output_type": "stream",
     "text": [
      "\n"
     ]
    }
   ],
   "source": [
    "#Counting punctuation, spelling errors, charachters, words per sentence ratio, average sentence length\n",
    "def words_filter(essays):\n",
    "    punctuation_count = []\n",
    "    misspelled_words_count = []\n",
    "    for essay in tqdm_notebook(essays):\n",
    "        pc_temp=0\n",
    "        mw_temp=0\n",
    "        for word in nltk.word_tokenize(essay):\n",
    "            if word.lower() not in punctuation:\n",
    "                if word.lower() not in correct_words_set:\n",
    "                    mw_temp+=1\n",
    "            else:\n",
    "                pc_temp+=1\n",
    "        punctuation_count.append(pc_temp)\n",
    "        misspelled_words_count.append(mw_temp)\n",
    "    return punctuation_count,misspelled_words_count\n",
    "word_features = words_filter(essays['essay'])\n",
    "essays['punctuatioon_count'] = word_features[0]\n",
    "essays['spelling_errors'] = word_features[1]\n",
    "essays['character_count'] = essays['essay'].apply(lambda essay:len(essay))\n",
    "essays['words_per_sent_ratio'] = round(essays['words_count']/essays['sentences_count'])\n",
    "essays['avg_sen_len'] = round(essays['character_count']/essays['sentences_count'])"
   ]
  },
  {
   "cell_type": "code",
   "execution_count": 82,
   "metadata": {
    "ExecuteTime": {
     "end_time": "2020-03-05T12:41:39.560497Z",
     "start_time": "2020-03-05T12:41:39.394994Z"
    }
   },
   "outputs": [
    {
     "data": {
      "application/vnd.jupyter.widget-view+json": {
       "model_id": "3267d460bbbb43f7910377608e24a31a",
       "version_major": 2,
       "version_minor": 0
      },
      "text/plain": [
       "HBox(children=(FloatProgress(value=0.0, max=1783.0), HTML(value='')))"
      ]
     },
     "metadata": {},
     "output_type": "display_data"
    },
    {
     "name": "stdout",
     "output_type": "stream",
     "text": [
      "\n"
     ]
    }
   ],
   "source": [
    "# Counting only english words\n",
    "english_words=[]\n",
    "for listofwords in tqdm_notebook(essays['essay_words']):\n",
    "    temp_english_word=0\n",
    "    for word in listofwords:\n",
    "        if word in words_english:\n",
    "            temp_english_word+=1\n",
    "    english_words.append(temp_english_word)\n",
    "essays['english_words']=english_words"
   ]
  },
  {
   "cell_type": "code",
   "execution_count": 83,
   "metadata": {
    "ExecuteTime": {
     "end_time": "2020-03-05T12:41:39.765423Z",
     "start_time": "2020-03-05T12:41:39.562963Z"
    },
    "code_folding": []
   },
   "outputs": [
    {
     "data": {
      "application/vnd.jupyter.widget-view+json": {
       "model_id": "fad989b9a6ae4a3491482fd56db98ba1",
       "version_major": 2,
       "version_minor": 0
      },
      "text/plain": [
       "HBox(children=(FloatProgress(value=0.0, max=1783.0), HTML(value='')))"
      ]
     },
     "metadata": {},
     "output_type": "display_data"
    },
    {
     "name": "stdout",
     "output_type": "stream",
     "text": [
      "\n"
     ]
    }
   ],
   "source": [
    "#Removing only non-stopwords and stopwords\n",
    "nltk_words_tokinized_no_stop_words = []\n",
    "stopwords_count = []\n",
    "for tolinized_list in tqdm_notebook(essays['essay_words']):\n",
    "    temp_stop_words_count = 0\n",
    "    temp_nsw = []\n",
    "    for word in tolinized_list:\n",
    "        if word not in STOP_WORDS:\n",
    "            temp_nsw.append(word)\n",
    "        else:\n",
    "            temp_stop_words_count+=1\n",
    "    nltk_words_tokinized_no_stop_words.append(temp_nsw)\n",
    "    stopwords_count.append(temp_stop_words_count)\n",
    "essays['essay_words'] = nltk_words_tokinized_no_stop_words\n",
    "essays['stopwords_count'] = stopwords_count"
   ]
  },
  {
   "cell_type": "code",
   "execution_count": 84,
   "metadata": {},
   "outputs": [],
   "source": [
    "#Joining essay without stopwords\n",
    "def words_joiner(essays):\n",
    "    for line_number in tqdm_notebook(range(essays.index[0],essays.index[-1]+1)):\n",
    "        essays['essay_words'][line_number] = ' '.join(essays['essay_words'][line_number])"
   ]
  },
  {
   "cell_type": "code",
   "execution_count": 85,
   "metadata": {
    "ExecuteTime": {
     "end_time": "2020-03-05T12:41:39.881626Z",
     "start_time": "2020-03-05T12:41:39.828656Z"
    }
   },
   "outputs": [
    {
     "data": {
      "application/vnd.jupyter.widget-view+json": {
       "model_id": "b35c48de9e0a43dd9a36c2c80a49b63d",
       "version_major": 2,
       "version_minor": 0
      },
      "text/plain": [
       "HBox(children=(FloatProgress(value=0.0, max=1783.0), HTML(value='')))"
      ]
     },
     "metadata": {},
     "output_type": "display_data"
    },
    {
     "name": "stdout",
     "output_type": "stream",
     "text": [
      "\n"
     ]
    },
    {
     "data": {
      "application/vnd.jupyter.widget-view+json": {
       "model_id": "7fcae4fd7f624a80a1a9328e244da2af",
       "version_major": 2,
       "version_minor": 0
      },
      "text/plain": [
       "HBox(children=(FloatProgress(value=0.0, max=1783.0), HTML(value='')))"
      ]
     },
     "metadata": {},
     "output_type": "display_data"
    },
    {
     "name": "stdout",
     "output_type": "stream",
     "text": [
      "\n"
     ]
    }
   ],
   "source": [
    "#Tagging evry word with the corespondent part of speech\n",
    "for i in list_of_all_tags:\n",
    "    essays[i] = 0\n",
    "for line_number in tqdm_notebook(range(essays.index[0],essays.index[-1]+1)):\n",
    "    temp_pos_list = np.unique(np.array(nltk.pos_tag(essays['essay_words'][line_number]))[:,1], return_counts=True)\n",
    "    pos_list = list(zip(temp_pos_list[0],temp_pos_list[1]))\n",
    "    for i in pos_list:\n",
    "        essays[i[0]][line_number]=i[1]\n",
    "essays.drop(columns=[\"''\", '--', ':', '(', ')', '.', ',', '``', '$','essay','essay_sentences'],inplace=True,axis=1)\n",
    "words_joiner(essays)"
   ]
  },
  {
   "cell_type": "code",
   "execution_count": 86,
   "metadata": {},
   "outputs": [
    {
     "data": {
      "application/vnd.jupyter.widget-view+json": {
       "model_id": "b4a66d5dc5a84547bcbc5c3869cefe48",
       "version_major": 2,
       "version_minor": 0
      },
      "text/plain": [
       "HBox(children=(FloatProgress(value=0.0, max=1783.0), HTML(value='')))"
      ]
     },
     "metadata": {},
     "output_type": "display_data"
    },
    {
     "name": "stdout",
     "output_type": "stream",
     "text": [
      "\n"
     ]
    },
    {
     "data": {
      "application/vnd.jupyter.widget-view+json": {
       "model_id": "026125b9a5f54455b65f99409648000c",
       "version_major": 2,
       "version_minor": 0
      },
      "text/plain": [
       "HBox(children=(FloatProgress(value=0.0, max=1783.0), HTML(value='')))"
      ]
     },
     "metadata": {},
     "output_type": "display_data"
    },
    {
     "name": "stdout",
     "output_type": "stream",
     "text": [
      "\n"
     ]
    }
   ],
   "source": [
    "#Reducing every word to its grammatical root and counting absolute and unique number of those roots\n",
    "lemmatized_essay_words = []\n",
    "for essay in  tqdm_notebook(essays['essay_words']):\n",
    "    lemmatized = [t.lemma_ for t in lematizator(essay)]\n",
    "    lemmatized_essay_words.append(lemmatized)\n",
    "essays['essay_words'] = lemmatized_essay_words\n",
    "essays['token_count'] = essays['essay_words'].apply(lambda x: len(x))\n",
    "essays['unique_token_count'] = essays['essay_words'].apply(lambda x: len(set(x)))\n",
    "words_joiner(essays)"
   ]
  },
  {
   "cell_type": "markdown",
   "metadata": {},
   "source": [
    "# Modeling"
   ]
  },
  {
   "cell_type": "code",
   "execution_count": 87,
   "metadata": {
    "ExecuteTime": {
     "end_time": "2020-03-05T12:41:52.126107Z",
     "start_time": "2020-03-05T12:41:50.525416Z"
    }
   },
   "outputs": [],
   "source": [
    "#Vectorization of text data\n",
    "tv = TfidfVectorizer(ngram_range=(1, 5), max_features=2000)\n",
    "essay_words_vectorized = tv.fit_transform(essays['essay_words'])\n",
    "pickle.dump(tv,open('vectorizer.pkl','wb'))\n",
    "y_train = essays['domain1_score']"
   ]
  },
  {
   "cell_type": "code",
   "execution_count": 88,
   "metadata": {
    "ExecuteTime": {
     "end_time": "2020-03-05T12:41:52.133753Z",
     "start_time": "2020-03-05T12:41:52.128125Z"
    }
   },
   "outputs": [],
   "source": [
    "#All choosen ML models\n",
    "RANDOM_STATE = 47\n",
    "lin_reg = LinearRegression(n_jobs=-1,normalize=True)\n",
    "log_clf = LogisticRegression(penalty='l2',C=5,n_jobs=-1,random_state = RANDOM_STATE,max_iter=5000000)\n",
    "catboost_reg = CatBoostRegressor(n_estimators=1000,random_state = RANDOM_STATE)\n",
    "svm = LinearSVC(random_state = RANDOM_STATE)\n",
    "random_forest = RandomForestClassifier(random_state = RANDOM_STATE)\n",
    "elastic = ElasticNet(l1_ratio=0.01, alpha=0.1, max_iter=100000, random_state=26)\n",
    "catboost_clf=CatBoostClassifier(n_estimators=1000,random_state = RANDOM_STATE)\n",
    "NBC=MultinomialNB()"
   ]
  },
  {
   "cell_type": "code",
   "execution_count": 89,
   "metadata": {
    "ExecuteTime": {
     "end_time": "2020-03-05T13:01:10.770939Z",
     "start_time": "2020-03-05T13:01:10.745516Z"
    }
   },
   "outputs": [],
   "source": [
    "#Numerical features selection\n",
    "#sel_varience = VarianceThreshold(threshold=(.9 * (1 - .9)))\n",
    "#selected_sel_varience = sel_varience.fit_transform(essays.drop(['domain1_score','essay_words','essay_set'],axis=1))\n",
    "sel_k_best = SelectKBest(chi2, k=15)\n",
    "selected_sel_k_best = sel_k_best.fit_transform(essays.drop(['domain1_score','essay_words','essay_set'],axis=1),y_train)\n",
    "pickle.dump(sel_k_best,open('selector.pkl','wb'))"
   ]
  },
  {
   "cell_type": "code",
   "execution_count": 90,
   "metadata": {},
   "outputs": [
    {
     "data": {
      "image/png": "[encoded data removed]",
      "text/plain": [
       "<Figure size 432x288 with 1 Axes>"
      ]
     },
     "metadata": {
      "needs_background": "light"
     },
     "output_type": "display_data"
    }
   ],
   "source": [
    "#Feature importances visualization\n",
    "X = essays[essays.drop(['domain1_score','essay_words','essay_set'],axis=1).columns[(sel_k_best.get_support())]]\n",
    "y = y_train.astype(np.float64)\n",
    "forest = ExtraTreesClassifier(n_estimators=250, random_state=26)\n",
    "forest.fit(X, y)\n",
    "std = np.std([tree.feature_importances_ for tree in forest.estimators_], axis=0)\n",
    "features = pd.DataFrame({'feature_name': X.columns, 'importance': forest.feature_importances_, 'std': std})\n",
    "features.sort_values('importance').plot.barh(x='feature_name', y='importance', xerr='std', legend=False)\n",
    "plt.title('Gini importances of forest features')\n",
    "plt.xlabel('Gini-importance')\n",
    "plt.tight_layout()\n",
    "plt.show()"
   ]
  },
  {
   "cell_type": "code",
   "execution_count": 91,
   "metadata": {},
   "outputs": [
    {
     "name": "stdout",
     "output_type": "stream",
     "text": [
      "(1783, 30)\n"
     ]
    }
   ],
   "source": [
    "#Performng numerical features scaling, stacking with vectorized text data and dimentionality reduction\n",
    "pca = TruncatedSVD(n_components=15,random_state = RANDOM_STATE)\n",
    "scaleer = StandardScaler(copy=True, with_mean=True, with_std=True)\n",
    "numerical_scaled = scaleer.fit_transform(selected_sel_k_best)\n",
    "essay_words_vectorized_reduced = pca.fit_transform(essay_words_vectorized)\n",
    "pickle.dump(scaleer,open('scaleer.pkl','wb'))\n",
    "pickle.dump(pca,open('pca.pkl','wb'))\n",
    "X_reduced = np.concatenate((essay_words_vectorized_reduced,numerical_scaled),axis=1)\n",
    "print(X_reduced.shape)"
   ]
  },
  {
   "cell_type": "code",
   "execution_count": 92,
   "metadata": {
    "ExecuteTime": {
     "end_time": "2020-03-05T13:01:22.991653Z",
     "start_time": "2020-03-05T13:01:17.006927Z"
    }
   },
   "outputs": [
    {
     "name": "stderr",
     "output_type": "stream",
     "text": [
      "[Parallel(n_jobs=-1)]: Using backend LokyBackend with 4 concurrent workers.\n",
      "[Parallel(n_jobs=-1)]: Done   5 out of   5 | elapsed:    7.2s finished\n"
     ]
    }
   ],
   "source": [
    "#Performing 5 fold cross-validation\n",
    "model = log_clf\n",
    "kappa_scorer = make_scorer(cohen_kappa_score,weights=\"quadratic\")\n",
    "splits = KFold(n_splits=5,random_state = RANDOM_STATE)\n",
    "cv_scores_kappa_scorer = cross_val_score(model, X_reduced, y_train, cv=splits, scoring=kappa_scorer, n_jobs=-1, verbose=True)\n",
    "#cv_scores_accuracy = cross_val_score(model, X_reduced, y_train, cv=splits, scoring='accuracy', n_jobs=-1, verbose=True)"
   ]
  },
  {
   "cell_type": "code",
   "execution_count": 93,
   "metadata": {
    "ExecuteTime": {
     "end_time": "2020-03-05T13:01:23.015221Z",
     "start_time": "2020-03-05T13:01:22.999763Z"
    }
   },
   "outputs": [
    {
     "name": "stdout",
     "output_type": "stream",
     "text": [
      "kappa_scores:[0.82753315 0.80306841 0.82958817 0.7630552  0.81077157]\n",
      "kappa_score:0.8068032987846042\n"
     ]
    }
   ],
   "source": [
    "#Printing results\n",
    "print('kappa_scores:{}'.format(cv_scores_kappa_scorer))\n",
    "print('kappa_score:{}'.format(cv_scores_kappa_scorer.mean()))\n",
    "# print('accuracy_scores:{}'.format(cv_scores_accuracy))\n",
    "# print('accuracy_score:{}'.format(cv_scores_accuracy.mean()))"
   ]
  },
  {
   "cell_type": "markdown",
   "metadata": {},
   "source": [
    "# Saving the final model"
   ]
  },
  {
   "cell_type": "code",
   "execution_count": 94,
   "metadata": {},
   "outputs": [],
   "source": [
    "#Training the model on whole data than saving the model\n",
    "model_saving = model\n",
    "model_saving.fit(X_reduced, y_train)\n",
    "pickle.dump(model_saving,open('model.pkl','wb'))"
   ]
  }
 ],
 "metadata": {
  "kernelspec": {
   "display_name": "Python 3",
   "language": "python",
   "name": "python3"
  },
  "language_info": {
   "codemirror_mode": {
    "name": "ipython",
    "version": 3
   },
   "file_extension": ".py",
   "mimetype": "text/x-python",
   "name": "python",
   "nbconvert_exporter": "python",
   "pygments_lexer": "ipython3",
   "version": "3.7.6"
  },
  "toc-autonumbering": true,
  "toc-showcode": true,
  "toc-showmarkdowntxt": true,
  "toc-showtags": false
 },
 "nbformat": 4,
 "nbformat_minor": 4
}
